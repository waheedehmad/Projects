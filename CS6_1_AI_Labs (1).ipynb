{
  "nbformat": 4,
  "nbformat_minor": 0,
  "metadata": {
    "colab": {
      "provenance": []
    },
    "kernelspec": {
      "name": "python3",
      "display_name": "Python 3"
    },
    "language_info": {
      "name": "python"
    }
  },
  "cells": [
    {
      "cell_type": "code",
      "execution_count": null,
      "metadata": {
        "id": "J9eDVX55uoiS"
      },
      "outputs": [],
      "source": [
        "# Basics of python"
      ]
    },
    {
      "cell_type": "code",
      "source": [
        "print('hello world')"
      ],
      "metadata": {
        "colab": {
          "base_uri": "https://localhost:8080/"
        },
        "id": "KaAsRl7zu8kh",
        "outputId": "c54e6aa1-7e8c-495f-ae4d-aa25e42c5b51"
      },
      "execution_count": null,
      "outputs": [
        {
          "output_type": "stream",
          "name": "stdout",
          "text": [
            "hello world\n"
          ]
        }
      ]
    },
    {
      "cell_type": "code",
      "source": [
        "# This is a comment\n",
        "# Print to console\n",
        "print(\"Hello BSCS\")"
      ],
      "metadata": {
        "colab": {
          "base_uri": "https://localhost:8080/"
        },
        "id": "qWRc1zofLBp0",
        "outputId": "565f10b8-8ff0-4d1d-e346-50a6bfc05dca"
      },
      "execution_count": null,
      "outputs": [
        {
          "output_type": "stream",
          "name": "stdout",
          "text": [
            "Hello BSCS\n"
          ]
        }
      ]
    },
    {
      "cell_type": "code",
      "source": [
        "\n",
        "print('hey')"
      ],
      "metadata": {
        "colab": {
          "base_uri": "https://localhost:8080/"
        },
        "id": "BYGHBH3eLRdV",
        "outputId": "d7320d1d-816e-411e-873c-535490bb96e6"
      },
      "execution_count": null,
      "outputs": [
        {
          "output_type": "stream",
          "name": "stdout",
          "text": [
            "hey\n"
          ]
        }
      ]
    },
    {
      "cell_type": "code",
      "source": [
        "#declaring variables\n",
        "\n",
        "# An integer assignment\n",
        "age = 45\n",
        "\n",
        "# A floating point\n",
        "salary = 1456.8\n",
        "\n",
        "# A string\n",
        "name = \"John\"\n",
        "\n",
        "print(age)\n",
        "print(salary)\n",
        "print(name)"
      ],
      "metadata": {
        "colab": {
          "base_uri": "https://localhost:8080/"
        },
        "id": "Or1Wzq4iLb9R",
        "outputId": "814347c1-1f2d-4ef4-b332-bbcaec21627a"
      },
      "execution_count": null,
      "outputs": [
        {
          "output_type": "stream",
          "name": "stdout",
          "text": [
            "45\n",
            "1456.8\n",
            "John\n"
          ]
        }
      ]
    },
    {
      "cell_type": "code",
      "source": [
        "# Python program showing\n",
        "# indentation\n",
        "#if else statment\n",
        "\n",
        "name = 'ali'\n",
        "\n",
        "if name == 'ali':\n",
        "    print('Welcome Ali')\n",
        "else:\n",
        "    print('Invalid user')\n",
        "print('All set !')"
      ],
      "metadata": {
        "id": "1L8z1KNgHN6r"
      },
      "execution_count": null,
      "outputs": []
    },
    {
      "cell_type": "code",
      "source": [
        "# Examples of Arithmetic Operator\n",
        "a = 9\n",
        "b = 4\n",
        "\n",
        "# Addition of numbers\n",
        "add = a + b\n",
        "# Subtraction of numbers\n",
        "sub = a - b\n",
        "# Multiplication of number\n",
        "mul = a * b\n",
        "# Division(float) of number\n",
        "div1 = a / b\n",
        "# Division(floor) of number\n",
        "div2 = a // b\n",
        "# Modulo of both number\n",
        "mod = a % b\n",
        "\n",
        "# print results\n",
        "print(add)\n",
        "print(sub)\n",
        "print(mul)\n",
        "print(div1)\n",
        "print(div2)\n",
        "print(mod)"
      ],
      "metadata": {
        "id": "JUBSUjkCLhrc"
      },
      "execution_count": null,
      "outputs": []
    },
    {
      "cell_type": "code",
      "source": [
        "# Examples of Relational Operators\n",
        "a = 13\n",
        "b = 33\n",
        "\n",
        "# a > b is False\n",
        "print(a > b)\n",
        "\n",
        "# a < b is True\n",
        "print(a < b)\n",
        "\n",
        "# a == b is False\n",
        "print(a == b)\n",
        "\n",
        "# a != b is True\n",
        "print(a != b)\n",
        "\n",
        "# a >= b is False\n",
        "print(a >= b)\n",
        "\n",
        "# a <= b is True\n",
        "print(a <= b)"
      ],
      "metadata": {
        "colab": {
          "base_uri": "https://localhost:8080/"
        },
        "id": "2ONtNRPmLo6y",
        "outputId": "33a450e4-f94f-4b55-ae0b-3d07a853210c"
      },
      "execution_count": null,
      "outputs": [
        {
          "output_type": "stream",
          "name": "stdout",
          "text": [
            "False\n",
            "True\n",
            "False\n",
            "True\n",
            "False\n",
            "True\n"
          ]
        }
      ]
    },
    {
      "cell_type": "code",
      "source": [
        "# Examples of Logical Operator\n",
        "a = True\n",
        "b = False\n",
        "\n",
        "# Print a and b is False\n",
        "print(a and b)\n",
        "\n",
        "# Print a or b is True\n",
        "print(a or b)\n",
        "\n",
        "# Print not a is False\n",
        "print(not a)"
      ],
      "metadata": {
        "id": "i_wy5AY1LuAx"
      },
      "execution_count": null,
      "outputs": []
    },
    {
      "cell_type": "code",
      "source": [
        "# Python program showing\n",
        "#taking input from user\n",
        "\n",
        "g = input(\"Enter your name : \")\n",
        "print(g)"
      ],
      "metadata": {
        "id": "NiCrmF6jL14e"
      },
      "execution_count": null,
      "outputs": []
    },
    {
      "cell_type": "code",
      "source": [
        "\n",
        "# how to print data on\n",
        "# a screen\n",
        "\n",
        "# One object is passed\n",
        "print(\"Hey class \")\n",
        "\n",
        "x = 5\n",
        "# Two objects are passed\n",
        "print(\"x =\", x)\n",
        "\n",
        "#another method\n",
        "a= 'ali'\n",
        "print('hey :' + a)"
      ],
      "metadata": {
        "colab": {
          "base_uri": "https://localhost:8080/"
        },
        "id": "PDoYurpnL3hJ",
        "outputId": "396fff0d-927f-4281-9bd0-869776d85988"
      },
      "execution_count": null,
      "outputs": [
        {
          "output_type": "stream",
          "name": "stdout",
          "text": [
            "Hey class \n",
            "x = 5\n",
            "hey :ali\n"
          ]
        }
      ]
    },
    {
      "cell_type": "code",
      "source": [],
      "metadata": {
        "id": "IUaapN1QMU-c"
      },
      "execution_count": null,
      "outputs": []
    },
    {
      "cell_type": "code",
      "source": [
        "# Python program to\n",
        "# demonstrate numeric value\n",
        "\n",
        "print(\"Type of a: \", type(5))\n",
        "\n",
        "print(\"\\nType of b: \", type(5.0))\n",
        "\n",
        "c = 2 + 4j\n",
        "print(\"\\nType of c: \", type(c))"
      ],
      "metadata": {
        "colab": {
          "base_uri": "https://localhost:8080/"
        },
        "id": "nBmg58skNLkG",
        "outputId": "eeacf5b5-b558-484e-d5f6-bfbd12e5e3a7"
      },
      "execution_count": null,
      "outputs": [
        {
          "output_type": "stream",
          "name": "stdout",
          "text": [
            "Type of a:  <class 'int'>\n",
            "\n",
            "Type of b:  <class 'float'>\n",
            "\n",
            "Type of c:  <class 'complex'>\n"
          ]
        }
      ]
    },
    {
      "cell_type": "code",
      "source": [
        "# Python Program for\n",
        "# Creation of String\n",
        "\n",
        "# String with single quotes\n",
        "print('Welcome to CS6-1 AI lab')\n",
        "\n",
        "# String with double quotes\n",
        "print(\"I'm a student of xyz\")\n",
        "\n",
        "# String with triple quotes\n",
        "print('''My name is''')"
      ],
      "metadata": {
        "id": "1RbxcgJjNRPk"
      },
      "execution_count": null,
      "outputs": []
    },
    {
      "cell_type": "code",
      "source": [
        "# Python Program to Access\n",
        "# characters of String\n",
        "\n",
        "String1 = \"classbscs\"\n",
        "\n",
        "# Printing First character\n",
        "print(String1[0])\n",
        "\n",
        "# Printing Last character\n",
        "print(String1[-1])"
      ],
      "metadata": {
        "colab": {
          "base_uri": "https://localhost:8080/"
        },
        "id": "ZbQDdApaOwSt",
        "outputId": "c6041591-fe61-4d18-f95c-eb0a64d994f7"
      },
      "execution_count": null,
      "outputs": [
        {
          "output_type": "stream",
          "name": "stdout",
          "text": [
            "c\n",
            "s\n"
          ]
        }
      ]
    },
    {
      "cell_type": "code",
      "source": [
        "# Python Program to Update / delete\n",
        "# character of a String\n",
        "\n",
        "########### STRING ARE IMMUTABLE, THEY CANT BE CHANGED"
      ],
      "metadata": {
        "id": "WsLsK8M3O0cV"
      },
      "execution_count": null,
      "outputs": []
    },
    {
      "cell_type": "markdown",
      "source": [
        "LAB - 02\n"
      ],
      "metadata": {
        "id": "N1ODWlat6DMZ"
      }
    },
    {
      "cell_type": "code",
      "source": [
        "# Python program to demonstrate\n",
        "# Creation of List\n",
        "\n",
        "# Creating a List\n",
        "List = []\n",
        "print(List)\n",
        "\n",
        "# Creating a list of strings\n",
        "List = ['Riphah', 'bs']\n",
        "print(List)\n",
        "\n",
        "# Creating a Multi-Dimensional List\n",
        "List = [['i am', 'student'], ['bs']]\n",
        "print(List)"
      ],
      "metadata": {
        "colab": {
          "base_uri": "https://localhost:8080/"
        },
        "id": "0bK9NdMHO4gs",
        "outputId": "bc7129f6-d3e4-41a5-fc2e-92557b3b3735"
      },
      "execution_count": null,
      "outputs": [
        {
          "output_type": "stream",
          "name": "stdout",
          "text": [
            "[]\n",
            "['Riphah', 'bs']\n",
            "[['i am', 'student'], ['bs']]\n"
          ]
        }
      ]
    },
    {
      "cell_type": "code",
      "source": [
        "# Python program to demonstrate\n",
        "# Addition of elements in a List\n",
        "\n",
        "# Creating a List\n",
        "List = []\n",
        "\n",
        "# Using append()\n",
        "List.append(1)\n",
        "List.append(2)\n",
        "print(List)\n",
        "\n",
        "# Using insert()\n",
        "List.insert(3, 12)\n",
        "List.insert(0, 'class')\n",
        "print(List)\n",
        "\n",
        "# Using extend()\n",
        "List.extend([8, 'classes', 'time'])\n",
        "print(List)"
      ],
      "metadata": {
        "colab": {
          "base_uri": "https://localhost:8080/"
        },
        "id": "ujKR8LnzPyrP",
        "outputId": "4298df68-329c-41d4-d4e2-501fc8328539"
      },
      "execution_count": null,
      "outputs": [
        {
          "output_type": "stream",
          "name": "stdout",
          "text": [
            "[1, 2]\n",
            "['class', 1, 2, 12]\n",
            "['class', 1, 2, 12, 8, 'classes', 'time']\n"
          ]
        }
      ]
    },
    {
      "cell_type": "code",
      "source": [
        "# ####\n",
        "# name=  input(\"please enter ur name: \")\n",
        "# salary = int(input(\"please enter your salary: \"))\n",
        "\n",
        "# halfsalary= salary/2\n",
        "# print(name + 'your half salary is : ' + str(halfsalary))"
      ],
      "metadata": {
        "colab": {
          "base_uri": "https://localhost:8080/"
        },
        "id": "RAdc1ygAQMln",
        "outputId": "be438820-8682-4182-e97a-9cc2a6ecf8eb"
      },
      "execution_count": null,
      "outputs": [
        {
          "output_type": "stream",
          "name": "stdout",
          "text": [
            "please enter ur name :ali\n",
            "please enter your salary20\n",
            "aliyour half salary is : 10.0\n"
          ]
        }
      ]
    },
    {
      "cell_type": "code",
      "source": [
        "sap= input('please enter your sap ID: ')\n",
        "name = input('please enter your name: ')\n",
        "\n",
        "\n",
        "print('Hey ' + name + ': your sap is :' + sap)"
      ],
      "metadata": {
        "colab": {
          "base_uri": "https://localhost:8080/"
        },
        "id": "_kUtxhnsR-u1",
        "outputId": "6bd5f75f-cef0-4bc0-915b-ae24a4d89988"
      },
      "execution_count": null,
      "outputs": [
        {
          "output_type": "stream",
          "name": "stdout",
          "text": [
            "please enter your sap ID: 123\n",
            "please enter your name: abdullah\n",
            "Hey abdullah: your sap is :123\n"
          ]
        }
      ]
    },
    {
      "cell_type": "code",
      "source": [
        "class Intro:\n",
        "  def __init__(self,name=\"\", sap=\"\", program=\"\"):\n",
        "    self.name=name\n",
        "    self.sap= sap\n",
        "    self.program= program\n",
        "\n",
        "\n",
        "  def data_print(self):\n",
        "    print('Your name is ' + self.name)\n",
        "    print(self.sap)\n",
        "    print(self.program)\n",
        "\n",
        "\n",
        "cls= Intro(\"ali\", 321, \"bscs\")\n",
        "cls.data_print()"
      ],
      "metadata": {
        "colab": {
          "base_uri": "https://localhost:8080/"
        },
        "id": "kn0R7ZwFS5nm",
        "outputId": "79e12831-1e0e-4860-95be-286e93923c96"
      },
      "execution_count": null,
      "outputs": [
        {
          "output_type": "stream",
          "name": "stdout",
          "text": [
            "Your name is ali\n",
            "321\n",
            "bscs\n"
          ]
        }
      ]
    },
    {
      "cell_type": "markdown",
      "source": [
        " Task - write a program to print a fruit and its color ,using classes."
      ],
      "metadata": {
        "id": "LerV_iz8rfyn"
      }
    },
    {
      "cell_type": "code",
      "source": [
        "class food():\n",
        "\n",
        "# init method or constructor\n",
        "  def __init__(self, fruit, color):\n",
        "    self.fruit = fruit\n",
        "    self.color = color\n",
        "\n",
        "  def show(self):\n",
        "    print(\"fruit is\", self.fruit)\n",
        "    print(\"color is\", self.color )\n",
        "\n",
        "apple = food(\"apple\", \"red\")\n",
        "grapes = food(\"grapes\", \"green\")\n",
        "\n",
        "apple.show()"
      ],
      "metadata": {
        "colab": {
          "base_uri": "https://localhost:8080/"
        },
        "id": "ODDUexqu053d",
        "outputId": "17430511-8a6b-4764-e6b3-b9e7427434f6"
      },
      "execution_count": null,
      "outputs": [
        {
          "output_type": "stream",
          "name": "stdout",
          "text": [
            "fruit is apple\n",
            "color is red\n"
          ]
        }
      ]
    },
    {
      "cell_type": "markdown",
      "source": [
        "**Task - Water Tank Capacity Program**\n",
        "The code for the program should allow the user to enter the height, width and depth of a water tank, then calculate and output the capacity.\n",
        "\n",
        "hint capacity = (height * width * depth) / 1000"
      ],
      "metadata": {
        "id": "Pp7yVS-gLGBf"
      }
    },
    {
      "cell_type": "code",
      "source": [
        "import datetime\n",
        "now = datetime.datetime.now()\n",
        "print (\"Current date and time : \")\n",
        "print (now.strftime(\"%Y-%m-%d %H:%M:%S\"))"
      ],
      "metadata": {
        "id": "4CKo-xED2jpP",
        "colab": {
          "base_uri": "https://localhost:8080/"
        },
        "outputId": "cbb4f3d2-15c3-4826-9305-ae9d10202810"
      },
      "execution_count": null,
      "outputs": [
        {
          "output_type": "stream",
          "name": "stdout",
          "text": [
            "Current date and time : \n",
            "2022-09-27 04:10:21\n"
          ]
        }
      ]
    },
    {
      "cell_type": "code",
      "source": [
        "#three variables that store the inputs as a decimal (float)\n",
        "height = float(input(\"Enter the tank height (cm): \"))\n",
        "width = float(input(\"Enter the tank width (cm): \"))\n",
        "depth = float(input(\"Enter the tank depth (cm): \"))\n",
        "#calculation to work out the capacity\n",
        "capacity = (height * width * depth) / 1000\n",
        "#outputs the capacity of the water tank\n",
        "print(\"The tank holds \" + str(round(capacity,2)) + \" litres of water\")"
      ],
      "metadata": {
        "colab": {
          "base_uri": "https://localhost:8080/"
        },
        "id": "-uAt9GWhJycp",
        "outputId": "42d5ab4d-a72c-4892-b244-76c35bd47aaf"
      },
      "execution_count": null,
      "outputs": [
        {
          "output_type": "stream",
          "name": "stdout",
          "text": [
            "Enter the tank height (cm): 5\n",
            "Enter the tank width (cm): 5\n",
            "Enter the tank depth (cm): 5\n",
            "The tank holds 0.12 litres of water\n"
          ]
        }
      ]
    },
    {
      "cell_type": "markdown",
      "source": [
        "**IF ELSE STATEMENTS**\n",
        "* The code for the program below ask the user the capital city of Pakistan and and\n",
        "\n",
        "\n",
        "\n",
        "* display a suitable message depending on whether they enter isb."
      ],
      "metadata": {
        "id": "RX7EbuOILxvo"
      }
    },
    {
      "cell_type": "code",
      "source": [
        "#asks the user to enter a city and stores it in a variable called city\n",
        "city = input(\"What is the capital city of Pakistan? \")\n",
        "#checks if the city variable has isb stored in it\n",
        "if city==\"isb\":\n",
        "\t#displays correct if the condition is true\n",
        "    print(\"Correct the capital city of Pakistan is islamabad\")\n",
        "else:\n",
        "\t#displays wrong if they have entered something else\n",
        "    print(\"Wrong, try again\")"
      ],
      "metadata": {
        "colab": {
          "base_uri": "https://localhost:8080/"
        },
        "id": "mM66kL7-JypB",
        "outputId": "3ee47b7d-204c-4ab2-8cdc-a232dc1a4b77"
      },
      "execution_count": null,
      "outputs": [
        {
          "output_type": "stream",
          "name": "stdout",
          "text": [
            "What is the capital city of Pakistan? isb\n",
            "Correct the capital city of Pakistan is islamabad\n"
          ]
        }
      ]
    },
    {
      "cell_type": "markdown",
      "source": [
        "Example program 2 - Grade Calculator Program\n",
        "The code for the program below will ask the user to enter a score on a test and then decide what grade they got.\n"
      ],
      "metadata": {
        "id": "zC_dK5o1MTOJ"
      }
    },
    {
      "cell_type": "code",
      "source": [
        "\n",
        "score = int(input(\"Enter a score between 0 and 100: \"))\n",
        "if score >=70:\n",
        "    print(\"That test score is a grade A\")\n",
        "elif score>=60:\n",
        "    print(\"That test score is a grade B\")\n",
        "elif score>=50:\n",
        "    print(\"That test score is a grade C\")\n",
        "elif score>=40:\n",
        "    print(\"That test score is a grade D\")\n",
        "else:\n",
        "    print(\"That test score is a grade U\")\n",
        "#####NOTE: When elif is used it will only check the next condition if the previous condition is false"
      ],
      "metadata": {
        "id": "s6fgb7qdLlJo"
      },
      "execution_count": null,
      "outputs": []
    },
    {
      "cell_type": "markdown",
      "source": [
        "Task : Write a program that takes inputs from the users which are three parameters length, width, and\n",
        "height for a multiple rooms as per desire of the user.\n",
        "* The program must contain a class with the name Room.\n",
        "* It contains the functions which are calcualateArea and calcualateVolume.\n",
        "* This program returns the area and the volume of any room.\n",
        "* The program takes multiple inputs from the user in a loop\n",
        "* (First one input and then multiple)"
      ],
      "metadata": {
        "id": "CGxTqAfFRBP6"
      }
    },
    {
      "cell_type": "code",
      "source": [],
      "metadata": {
        "colab": {
          "base_uri": "https://localhost:8080/"
        },
        "id": "EfZUXF1yRlj-",
        "outputId": "6cb6bd33-fd51-49dd-a10d-904c069ed5cd"
      },
      "execution_count": null,
      "outputs": [
        {
          "output_type": "stream",
          "name": "stdout",
          "text": [
            "-------------------------------\n",
            "\n",
            "enter details of  1 room \n",
            "enter length of room:1\n",
            "enter width of room:2\n",
            "enter height of room:3\n",
            "area of room  1 is :  2\n",
            "volume of room  1 is :  6\n",
            "-------------------------------\n",
            "\n",
            "enter details of  2 room \n",
            "enter length of room:4\n",
            "enter width of room:5\n",
            "enter height of room:6\n",
            "area of room  2 is :  20\n",
            "volume of room  2 is :  120\n"
          ]
        }
      ]
    },
    {
      "cell_type": "markdown",
      "source": [
        "**LAB - 03**\n"
      ],
      "metadata": {
        "id": "VR7l6dxjUErs"
      }
    },
    {
      "cell_type": "markdown",
      "source": [
        "Task **Write a program that gives an understanding of lists in python. Program includes different operations with lists that are:**\n",
        "*  Insert: to insert a value at specific index.\n",
        "*  Copy: to make a copy.\n",
        "*  Index: check a value within a range of indexes.\n",
        "*  Pop: remove a value from a specific index number.\n",
        "*  Remove: Remove a value by passing the exact value instead of idex number.\n",
        "*  Sort: Sort the array in accesnding and descending order.\n",
        "* Reverse: change the order of the array indexs"
      ],
      "metadata": {
        "id": "ktgxYx9fZNyX"
      }
    },
    {
      "cell_type": "code",
      "source": [
        "REVISION OF CONCEPTS\n"
      ],
      "metadata": {
        "id": "XJkQBaCsV41q"
      },
      "execution_count": null,
      "outputs": []
    },
    {
      "cell_type": "code",
      "source": [
        "\n",
        "# Python program to take space\n",
        "# separated input as a string\n",
        "# split and store it to a list\n",
        "# and print the string list\n",
        "\n",
        "# input the list as string\n",
        "string = input(\"Enter elements: \")\n",
        "\n",
        "# split the strings and store it to a list\n",
        "lst = string.split()\n",
        "print('The list is:', lst)   # printing the list"
      ],
      "metadata": {
        "id": "e-7Q6K65V7U4"
      },
      "execution_count": null,
      "outputs": []
    },
    {
      "cell_type": "code",
      "source": [
        "# Reversing a list\n",
        "mylist = [1, 2, 3, 4, 5, 'cs6-1', 'Python']\n",
        "mylist.reverse()\n",
        "print(mylist)"
      ],
      "metadata": {
        "colab": {
          "base_uri": "https://localhost:8080/"
        },
        "id": "8BOK0VnIWLHH",
        "outputId": "d120dd14-fecc-45a0-c56a-8e33adfbe7c9"
      },
      "execution_count": null,
      "outputs": [
        {
          "output_type": "stream",
          "name": "stdout",
          "text": [
            "['Python', 'cs6-1', 5, 4, 3, 2, 1]\n"
          ]
        }
      ]
    },
    {
      "cell_type": "markdown",
      "source": [
        "Difference between append() [for single element ]and extend() [for multiple elements], both at the end of list"
      ],
      "metadata": {
        "id": "LBqspFSaV8Yb"
      }
    },
    {
      "cell_type": "code",
      "source": [
        "List = [1, 2, 3, 4, 5]\n",
        "\n",
        "# Removing element from the\n",
        "# Set using the pop() method\n",
        "List.pop()\n",
        "print(\"\\nList after popping an element: \")\n",
        "print(List)\n",
        "\n",
        "# Removing element at a\n",
        "# specific location from the\n",
        "# Set using the pop() method\n",
        "List.pop(2)\n",
        "print(\"\\nList after popping a specific element: \")\n",
        "print(List)"
      ],
      "metadata": {
        "colab": {
          "base_uri": "https://localhost:8080/"
        },
        "id": "6XUHI2nMWZEl",
        "outputId": "3476660c-45c4-4e3a-9042-ea5c5de46f6b"
      },
      "execution_count": null,
      "outputs": [
        {
          "output_type": "stream",
          "name": "stdout",
          "text": [
            "\n",
            "List after popping an element: \n",
            "[1, 2, 3, 4]\n",
            "\n",
            "List after popping a specific element: \n",
            "[1, 2, 4]\n"
          ]
        }
      ]
    },
    {
      "cell_type": "code",
      "source": [
        "# Python program to demonstrate\n",
        "# Removal of elements in a List\n",
        "\n",
        "# Creating a List\n",
        "List = ['a', 'E', 'E', 'd', 'S', 'F',\n",
        "\t\t'O', 'z', 'm', 'E', 'f', 'K', 'S']\n",
        "print(\"Initial List: \")\n",
        "print(List)\n",
        "\n",
        "# Print elements of a range\n",
        "# using Slice operation\n",
        "Sliced_List = List[3:8]\n",
        "print(\"\\nSlicing elements in a range 3-8: \")\n",
        "print(Sliced_List)\n",
        "\n",
        "# Print elements from a\n",
        "# pre-defined point to end\n",
        "Sliced_List = List[5:]\n",
        "print(\"\\nElements sliced from 5th \"\n",
        "\t\"element till the end: \")\n",
        "print(Sliced_List)\n",
        "\n",
        "# Printing elements from\n",
        "# beginning till end\n",
        "Sliced_List = List[:]\n",
        "print(\"\\nPrinting all elements using slice operation: \")\n",
        "print(Sliced_List)\n"
      ],
      "metadata": {
        "colab": {
          "base_uri": "https://localhost:8080/"
        },
        "id": "AzDLaohsY1Sr",
        "outputId": "4f9ffb1f-68ec-4121-b571-555cf59b3ce8"
      },
      "execution_count": null,
      "outputs": [
        {
          "output_type": "stream",
          "name": "stdout",
          "text": [
            "Initial List: \n",
            "['a', 'E', 'E', 'd', 'S', 'F', 'O', 'z', 'm', 'E', 'f', 'K', 'S']\n",
            "\n",
            "Slicing elements in a range 3-8: \n",
            "['d', 'S', 'F', 'O', 'z']\n",
            "\n",
            "Elements sliced from 5th element till the end: \n",
            "['F', 'O', 'z', 'm', 'E', 'f', 'K', 'S']\n",
            "\n",
            "Printing all elements using slice operation: \n",
            "['a', 'E', 'E', 'd', 'S', 'F', 'O', 'z', 'm', 'E', 'f', 'K', 'S']\n"
          ]
        }
      ]
    },
    {
      "cell_type": "code",
      "source": [
        "\"\"\" Mad Libs Generator\n",
        "\n",
        "----------------------------------------\n",
        "\n",
        "\"\"\"\n",
        "\n",
        "\n",
        "\n",
        "# All the questions that the program asks the user\n",
        "\n",
        "noun = input(\"Choose a noun: \")\n",
        "\n",
        "p_noun = input(\"Choose a plural noun: \")\n",
        "\n",
        "noun2 = input(\"Choose a noun: \")\n",
        "\n",
        "place = input(\"Name a place: \")\n",
        "\n",
        "adjective = input(\"Choose an adjective (Describing word): \")\n",
        "\n",
        "noun3 = input(\"Choose a noun: \")\n",
        "\n",
        "#Displays the story based on the users input\n",
        "\n",
        "print (\"------------------------------------------\")\n",
        "\n",
        "print (\"Be kind to your\",noun,\"- footed\", p_noun)\n",
        "\n",
        "print (\"For a duck may be somebody's\", noun2,\",\")\n",
        "\n",
        "print (\"Be kind to your\",p_noun,\"in\",place)\n",
        "\n",
        "print (\"Where the weather is always\",adjective,\".\")\n",
        "\n",
        "print ()\n",
        "\n",
        "print (\"You may think that is this the\",noun3,\",\")\n",
        "\n",
        "print (\"Well it is.\")\n",
        "\n",
        "print (\"------------------------------------------\")\n"
      ],
      "metadata": {
        "id": "DQrp9djPVxVg",
        "colab": {
          "base_uri": "https://localhost:8080/"
        },
        "outputId": "5f97294f-3436-4b0f-9136-f270f76c69fa"
      },
      "execution_count": null,
      "outputs": [
        {
          "output_type": "stream",
          "name": "stdout",
          "text": [
            "Choose a noun: hamza\n",
            "Choose a plural noun: cars\n",
            "Choose a noun: ali\n",
            "Name a place: isb\n",
            "Choose an adjective (Describing word): nice\n",
            "Choose a noun: ahmed\n",
            "------------------------------------------\n",
            "Be kind to your hamza - footed cars\n",
            "For a duck may be somebody's ali ,\n",
            "Be kind to your cars in isb\n",
            "Where the weather is always nice .\n",
            "\n",
            "You may think that is this the ahmed ,\n",
            "Well it is.\n",
            "------------------------------------------\n"
          ]
        }
      ]
    },
    {
      "cell_type": "code",
      "source": [
        "var = (\"class\", \"bscs\", \"class\")\n",
        "print(var)"
      ],
      "metadata": {
        "colab": {
          "base_uri": "https://localhost:8080/"
        },
        "id": "TzaDiu9PrcPI",
        "outputId": "db39d523-d258-4d56-eeb0-e117eb43a553"
      },
      "execution_count": null,
      "outputs": [
        {
          "output_type": "stream",
          "name": "stdout",
          "text": [
            "('class', 'bscs', 'class')\n"
          ]
        }
      ]
    },
    {
      "cell_type": "code",
      "source": [
        "var = (\"bscs\", \"ai\", \"6-1\")\n",
        "\n",
        "print(\"Value in Var[0] = \", var[0])\n",
        "print(\"Value in Var[1] = \", var[1])\n",
        "print(\"Value in Var[2] = \", var[2])\n"
      ],
      "metadata": {
        "id": "mJlNgMmy6rPN",
        "colab": {
          "base_uri": "https://localhost:8080/"
        },
        "outputId": "1fe93d79-1d64-4d44-d348-27e65d003ee0"
      },
      "execution_count": null,
      "outputs": [
        {
          "output_type": "stream",
          "name": "stdout",
          "text": [
            "Value in Var[0] =  bscs\n",
            "Value in Var[1] =  ai\n",
            "Value in Var[2] =  6-1\n"
          ]
        }
      ]
    },
    {
      "cell_type": "code",
      "source": [
        "var = (\"class\", \"bscs\", \"class\")\n",
        "\n",
        "print(\"Value in Var[-3] = \", var[-3])\n",
        "print(\"Value in Var[-2] = \", var[-2])\n",
        "print(\"Value in Var[-1] = \", var[-1])"
      ],
      "metadata": {
        "id": "qwzFmuXkUi0U",
        "colab": {
          "base_uri": "https://localhost:8080/"
        },
        "outputId": "09f2be2b-6f3a-40f9-f46e-2e07fd05b78f"
      },
      "execution_count": null,
      "outputs": [
        {
          "output_type": "stream",
          "name": "stdout",
          "text": [
            "Value in Var[-3] =  class\n",
            "Value in Var[-2] =  bscs\n",
            "Value in Var[-1] =  class\n"
          ]
        }
      ]
    },
    {
      "cell_type": "code",
      "source": [
        "# Code for concatenating 2 tuples\n",
        "\n",
        "tuple1 = (0, 1, 2, 3)\n",
        "tuple2 = ('python', 'student')\n",
        "\n",
        "# Concatenating above two\n",
        "print(tuple1 + tuple2)\n"
      ],
      "metadata": {
        "id": "tTnFvYvmUpzh",
        "colab": {
          "base_uri": "https://localhost:8080/"
        },
        "outputId": "52da6127-4b2e-47eb-9d82-727676d33195"
      },
      "execution_count": null,
      "outputs": [
        {
          "output_type": "stream",
          "name": "stdout",
          "text": [
            "(0, 1, 2, 3, 'python', 'student')\n"
          ]
        }
      ]
    },
    {
      "cell_type": "code",
      "source": [
        "# Code for creating nested tuples\n",
        "\n",
        "tuple1 = (0, 1, 2, 3)\n",
        "tuple2 = ('python', 'student')\n",
        "tuple3 = (tuple1, tuple2)\n",
        "print(tuple3)\n"
      ],
      "metadata": {
        "id": "YFJvyvl6Uqck",
        "colab": {
          "base_uri": "https://localhost:8080/"
        },
        "outputId": "7efa6170-e456-48e7-90d5-98214e599e14"
      },
      "execution_count": null,
      "outputs": [
        {
          "output_type": "stream",
          "name": "stdout",
          "text": [
            "((0, 1, 2, 3), ('python', 'student'))\n"
          ]
        }
      ]
    },
    {
      "cell_type": "code",
      "source": [
        "# code to test that tuples are immutable\n",
        "\n",
        "tuple1 = (0, 1, 2, 3)\n",
        "tuple1[0] = 4\n",
        "print(tuple1)\n"
      ],
      "metadata": {
        "id": "-PJw_i9LUx8X",
        "colab": {
          "base_uri": "https://localhost:8080/",
          "height": 227
        },
        "outputId": "f6e0b3ae-3319-4864-bac3-028382884706"
      },
      "execution_count": null,
      "outputs": [
        {
          "output_type": "error",
          "ename": "TypeError",
          "evalue": "ignored",
          "traceback": [
            "\u001b[0;31m---------------------------------------------------------------------------\u001b[0m",
            "\u001b[0;31mTypeError\u001b[0m                                 Traceback (most recent call last)",
            "\u001b[0;32m<ipython-input-7-aa6ddf198371>\u001b[0m in \u001b[0;36m<module>\u001b[0;34m\u001b[0m\n\u001b[1;32m      2\u001b[0m \u001b[0;34m\u001b[0m\u001b[0m\n\u001b[1;32m      3\u001b[0m \u001b[0mtuple1\u001b[0m \u001b[0;34m=\u001b[0m \u001b[0;34m(\u001b[0m\u001b[0;36m0\u001b[0m\u001b[0;34m,\u001b[0m \u001b[0;36m1\u001b[0m\u001b[0;34m,\u001b[0m \u001b[0;36m2\u001b[0m\u001b[0;34m,\u001b[0m \u001b[0;36m3\u001b[0m\u001b[0;34m)\u001b[0m\u001b[0;34m\u001b[0m\u001b[0;34m\u001b[0m\u001b[0m\n\u001b[0;32m----> 4\u001b[0;31m \u001b[0mtuple1\u001b[0m\u001b[0;34m[\u001b[0m\u001b[0;36m0\u001b[0m\u001b[0;34m]\u001b[0m \u001b[0;34m=\u001b[0m \u001b[0;36m4\u001b[0m\u001b[0;34m\u001b[0m\u001b[0;34m\u001b[0m\u001b[0m\n\u001b[0m\u001b[1;32m      5\u001b[0m \u001b[0mprint\u001b[0m\u001b[0;34m(\u001b[0m\u001b[0mtuple1\u001b[0m\u001b[0;34m)\u001b[0m\u001b[0;34m\u001b[0m\u001b[0;34m\u001b[0m\u001b[0m\n",
            "\u001b[0;31mTypeError\u001b[0m: 'tuple' object does not support item assignment"
          ]
        }
      ]
    },
    {
      "cell_type": "code",
      "source": [
        "# code to test slicing\n",
        "\n",
        "tuple1 = (0 ,1, 2, 3)\n",
        "print(tuple1[1:])\n",
        "print(tuple1[::-1])\n",
        "print(tuple1[2:4])\n"
      ],
      "metadata": {
        "id": "xWi0GqwfUz3W",
        "colab": {
          "base_uri": "https://localhost:8080/"
        },
        "outputId": "6e7a0595-9c56-4042-fd46-b24a460e3260"
      },
      "execution_count": null,
      "outputs": [
        {
          "output_type": "stream",
          "name": "stdout",
          "text": [
            "(1, 2, 3)\n",
            "(3, 2, 1, 0)\n",
            "(2, 3)\n"
          ]
        }
      ]
    },
    {
      "cell_type": "code",
      "source": [
        "# Code for printing the length of a tuple\n",
        "\n",
        "tuple2 = ('python', 'student')\n",
        "print(len(tuple2))\n"
      ],
      "metadata": {
        "id": "m2H278xbU2fJ",
        "colab": {
          "base_uri": "https://localhost:8080/"
        },
        "outputId": "f12920e0-83e1-42d3-cf2f-7ecea05f0319"
      },
      "execution_count": null,
      "outputs": [
        {
          "output_type": "stream",
          "name": "stdout",
          "text": [
            "2\n"
          ]
        }
      ]
    },
    {
      "cell_type": "code",
      "source": [
        "# Code for converting a list and a string into a tuple\n",
        "\n",
        "list1 = [0, 1, 2]\n",
        "print(tuple(list1))\n",
        "print(tuple('python')) # string 'python'\n"
      ],
      "metadata": {
        "id": "pjyjOz5dU4Nd",
        "colab": {
          "base_uri": "https://localhost:8080/"
        },
        "outputId": "8afa1a8a-f5d3-4c05-f8f6-054889081012"
      },
      "execution_count": null,
      "outputs": [
        {
          "output_type": "stream",
          "name": "stdout",
          "text": [
            "(0, 1, 2)\n",
            "('p', 'y', 't', 'h', 'o', 'n')\n"
          ]
        }
      ]
    },
    {
      "cell_type": "code",
      "source": [
        "# python code for creating tuples in a loop\n",
        "\n",
        "tup = ('student',)\n",
        "n = 5 # Number of time loop runs\n",
        "for i in range(int(n)):\n",
        "\ttup = (tup,)\n",
        "\tprint(tup)\n"
      ],
      "metadata": {
        "id": "YBGIyZ0pU44K",
        "colab": {
          "base_uri": "https://localhost:8080/"
        },
        "outputId": "c45058df-9725-4a94-f420-eaa2bc338d72"
      },
      "execution_count": null,
      "outputs": [
        {
          "output_type": "stream",
          "name": "stdout",
          "text": [
            "(('student',),)\n",
            "((('student',),),)\n",
            "(((('student',),),),)\n",
            "((((('student',),),),),)\n",
            "(((((('student',),),),),),)\n"
          ]
        }
      ]
    },
    {
      "cell_type": "code",
      "source": [],
      "metadata": {
        "id": "yP1Y9KcKVBdJ"
      },
      "execution_count": null,
      "outputs": []
    },
    {
      "cell_type": "markdown",
      "source": [
        "**Dictionaries in python**"
      ],
      "metadata": {
        "id": "RL34IFZ7YOKB"
      }
    },
    {
      "cell_type": "code",
      "source": [
        "Dict = {1: 'class', 2: 'AI', 3: 'CS'}\n",
        "print(Dict)\n"
      ],
      "metadata": {
        "colab": {
          "base_uri": "https://localhost:8080/"
        },
        "id": "FGCeBcXpVdNW",
        "outputId": "4733bbe9-fc07-4bf8-f017-79ae8e23fbb5"
      },
      "execution_count": null,
      "outputs": [
        {
          "output_type": "stream",
          "name": "stdout",
          "text": [
            "{1: 'class', 2: 'AI', 3: 'CS'}\n"
          ]
        }
      ]
    },
    {
      "cell_type": "code",
      "source": [
        "# Creating a Dictionary\n",
        "# with Integer Keys\n",
        "Dict = {1: 'class', 2: 'bscs', 3: 'class'}\n",
        "print(\"\\nDictionary with the use of Integer Keys: \")\n",
        "print(Dict)\n",
        "\n",
        "# Creating a Dictionary\n",
        "# with Mixed keys\n",
        "Dict = {'Name': 'class', 1: [1, 2, 3, 4]}\n",
        "print(\"\\nDictionary with the use of Mixed Keys: \")\n",
        "print(Dict)\n"
      ],
      "metadata": {
        "id": "X1qgn3wsazt8",
        "colab": {
          "base_uri": "https://localhost:8080/"
        },
        "outputId": "3a8a33e0-5df7-4044-e7c4-f2369526bdcf"
      },
      "execution_count": null,
      "outputs": [
        {
          "output_type": "stream",
          "name": "stdout",
          "text": [
            "\n",
            "Dictionary with the use of Integer Keys: \n",
            "{1: 'class', 2: 'bscs', 3: 'class'}\n",
            "\n",
            "Dictionary with the use of Mixed Keys: \n",
            "{'Name': 'class', 1: [1, 2, 3, 4]}\n"
          ]
        }
      ]
    },
    {
      "cell_type": "code",
      "source": [
        "# Creating an empty Dictionary\n",
        "Dict = {}\n",
        "print(\"Empty Dictionary: \")\n",
        "print(Dict)\n",
        "\n",
        "# Creating a Dictionary\n",
        "# with dict() method\n",
        "Dict = dict({1: 'bscs', 2: 'For', 3: 'bscs'})\n",
        "print(\"\\nDictionary with the use of dict(): \")\n",
        "print(Dict)\n",
        "\n",
        "# Creating a Dictionary\n",
        "# with each item as a Pair\n",
        "Dict = dict([(1, 'bscs'), (2, 'For')])\n",
        "print(\"\\nDictionary with each item as a pair: \")\n",
        "print(Dict)\n"
      ],
      "metadata": {
        "colab": {
          "base_uri": "https://localhost:8080/"
        },
        "id": "q8iE0PYQbWDP",
        "outputId": "709c36be-fe7d-4a1a-ac59-91d23750bb81"
      },
      "execution_count": null,
      "outputs": [
        {
          "output_type": "stream",
          "name": "stdout",
          "text": [
            "Empty Dictionary: \n",
            "{}\n",
            "\n",
            "Dictionary with the use of dict(): \n",
            "{1: 'bscs', 2: 'For', 3: 'bscs'}\n",
            "\n",
            "Dictionary with each item as a pair: \n",
            "{1: 'bscs', 2: 'For'}\n"
          ]
        }
      ]
    },
    {
      "cell_type": "code",
      "source": [
        "# Creating an empty Dictionary\n",
        "Dict = {}\n",
        "print(\"Empty Dictionary: \")\n",
        "print(Dict)\n",
        "\n",
        "# Adding elements one at a time\n",
        "Dict[0] = 'bscs'\n",
        "Dict[2] = 'For'\n",
        "Dict[3] = 1\n",
        "print(\"\\nDictionary after adding 3 elements: \")\n",
        "print(Dict)\n",
        "\n",
        "# Adding set of values\n",
        "# to a single Key\n",
        "Dict['Value_set'] = 2, 3, 4\n",
        "print(\"\\nDictionary after adding 3 elements: \")\n",
        "print(Dict)\n",
        "\n",
        "# Updating existing Key's Value\n",
        "Dict[2] = 'Welcome'\n",
        "print(\"\\nUpdated key value: \")\n",
        "print(Dict)\n"
      ],
      "metadata": {
        "colab": {
          "base_uri": "https://localhost:8080/"
        },
        "id": "ccThIVAxbf3K",
        "outputId": "38fca734-1601-4d24-93f0-43d63dcbe210"
      },
      "execution_count": null,
      "outputs": [
        {
          "output_type": "stream",
          "name": "stdout",
          "text": [
            "Empty Dictionary: \n",
            "{}\n",
            "\n",
            "Dictionary after adding 3 elements: \n",
            "{0: 'bscs', 2: 'For', 3: 1}\n",
            "\n",
            "Dictionary after adding 3 elements: \n",
            "{0: 'bscs', 2: 'For', 3: 1, 'Value_set': (2, 3, 4)}\n",
            "\n",
            "Updated key value: \n",
            "{0: 'bscs', 2: 'Welcome', 3: 1, 'Value_set': (2, 3, 4)}\n"
          ]
        }
      ]
    },
    {
      "cell_type": "markdown",
      "source": [
        "**Lab - 04**"
      ],
      "metadata": {
        "id": "s1KLpWeqNdPc"
      }
    },
    {
      "cell_type": "markdown",
      "source": [
        "Create a dict and access an elements using key"
      ],
      "metadata": {
        "id": "yd7vFlUJ1s9H"
      }
    },
    {
      "cell_type": "code",
      "source": [
        "# Python program to demonstrate\n",
        "# accessing a element from a Dictionary\n",
        "\n",
        "# Creating a Dictionary\n",
        "Dict = {1: 'bscs', 'name': 'For', 3: 'bscs'}\n",
        "\n",
        "# accessing a element using key\n",
        "print(\"Accessing a element using key:\")\n",
        "print(Dict['name'])\n",
        "\n",
        "# accessing a element using key\n",
        "print(\"Accessing a element using key:\")\n",
        "print(Dict[1])\n"
      ],
      "metadata": {
        "id": "dnqEu1X0biA4",
        "colab": {
          "base_uri": "https://localhost:8080/"
        },
        "outputId": "8494b808-94eb-4ec0-8ccf-129c10c79634"
      },
      "execution_count": null,
      "outputs": [
        {
          "output_type": "stream",
          "name": "stdout",
          "text": [
            "Accessing a element using key:\n",
            "For\n",
            "Accessing a element using key:\n",
            "bscs\n"
          ]
        }
      ]
    },
    {
      "cell_type": "code",
      "source": [
        "# Creating a Dictionary\n",
        "Dict = {1: 'bscs', 'name': 'For', 3: 'bscs'}\n",
        "\n",
        "# accessing a element using get()\n",
        "# method\n",
        "print(\"Accessing a element using get:\")\n",
        "print(Dict.get(1))\n"
      ],
      "metadata": {
        "id": "WJF4sws3bv8J",
        "colab": {
          "base_uri": "https://localhost:8080/"
        },
        "outputId": "cbd0c0fb-e2fd-4949-96ee-f4df65ccffdb"
      },
      "execution_count": null,
      "outputs": [
        {
          "output_type": "stream",
          "name": "stdout",
          "text": [
            "Accessing a element using get:\n",
            "bscs\n"
          ]
        }
      ]
    },
    {
      "cell_type": "markdown",
      "source": [
        "* clear() – Remove all the elements from the dictionary\n",
        "* copy() – Returns a copy of the dictionary\n",
        "* get() – Returns the value of specified key\n",
        "* items() – Returns a list containing a tuple for each key value pair\n",
        "* keys() – Returns a list containing dictionary’s keys\n",
        "* pop() – Remove the element with specified key\n",
        "* popitem() – Removes the last inserted key-value pair\n",
        "* update() – Updates dictionary with specified key-value pairs\n",
        "* values() – Returns a list of all the values of dictionary**"
      ],
      "metadata": {
        "id": "79nGWmOYb1uy"
      }
    },
    {
      "cell_type": "code",
      "source": [
        "# demo for all dictionary methods\n",
        "dict1 = {1: \"Python\", 2: \"Java\", 3: \"Ruby\", 4: \"Scala\"}\n",
        "\n",
        "# copy() method\n",
        "dict2 = dict1.copy()\n",
        "print(dict2)\n",
        "\n",
        "# clear() method\n",
        "dict1.clear()\n",
        "print(dict1)\n",
        "\n",
        "# get() method\n",
        "print(dict2.get(1))\n",
        "\n",
        "# items() method\n",
        "print(dict2.items())\n",
        "\n",
        "# keys() method\n",
        "print(dict2.keys())\n",
        "\n",
        "# pop() method\n",
        "dict2.pop(4)\n",
        "print(dict2)\n",
        "\n",
        "# popitem() method\n",
        "dict2.popitem()\n",
        "print(dict2)\n",
        "\n",
        "# update() method\n",
        "dict2.update({3: \"Scala\"})\n",
        "print(dict2)\n",
        "\n",
        "# values() method\n",
        "print(dict2.values())\n"
      ],
      "metadata": {
        "id": "gaMCdojLb0gO",
        "colab": {
          "base_uri": "https://localhost:8080/"
        },
        "outputId": "79440d88-3901-4149-f0b4-0f4d52e10b7a"
      },
      "execution_count": null,
      "outputs": [
        {
          "output_type": "stream",
          "name": "stdout",
          "text": [
            "{1: 'Python', 2: 'Java', 3: 'Ruby', 4: 'Scala'}\n",
            "{}\n",
            "Python\n",
            "dict_items([(1, 'Python'), (2, 'Java'), (3, 'Ruby'), (4, 'Scala')])\n",
            "dict_keys([1, 2, 3, 4])\n",
            "{1: 'Python', 2: 'Java', 3: 'Ruby'}\n",
            "{1: 'Python', 2: 'Java'}\n",
            "{1: 'Python', 2: 'Java', 3: 'Scala'}\n",
            "dict_values(['Python', 'Java', 'Scala'])\n"
          ]
        }
      ]
    },
    {
      "cell_type": "markdown",
      "source": [
        "Inheritance is the capability of one class to derive or inherit the properties from another class.\n",
        "\n",
        "* Benefits of inheritance are:\n",
        "* It represents real-world relationships well.\n",
        "* It provides the reusability of a code. We don’t have to write the same code * again and again. Also, it allows us to add more features to a class without modifying it.\n",
        "* It is transitive in nature, which means that if class B inherits from another * class A, then all the subclasses of B would automatically inherit from class A"
      ],
      "metadata": {
        "id": "hAEJOMldcQnQ"
      }
    },
    {
      "cell_type": "code",
      "source": [
        "Class BaseClass:\n",
        "    {Body}\n",
        "Class DerivedClass(BaseClass):\n",
        "    {Body}"
      ],
      "metadata": {
        "id": "NBDxQAkGcBF8"
      },
      "execution_count": null,
      "outputs": []
    },
    {
      "cell_type": "code",
      "source": [
        "# A Python program to demonstrate inheritance\n",
        "\n",
        "# Base or Super class. Note object in bracket.\n",
        "# (Generally, object is made ancestor of all classes)\n",
        "# In Python 3.x \"class Person\" is\n",
        "# equivalent to \"class Person(object)\"\n",
        "\n",
        "\n",
        "#### NOT in classsssssssssssssssssss\n",
        "class Person(object):\n",
        "\n",
        "\t# Constructor\n",
        "\tdef __init__(self, name):\n",
        "\t\tself.name = name\n",
        "\n",
        "\t# To get name\n",
        "\tdef getName(self):\n",
        "\t\treturn self.name\n",
        "\n",
        "\t# To check if this person is an employee\n",
        "\tdef isEmployee(self):\n",
        "\t\treturn False\n",
        "\n",
        "\n",
        "# Inherited or Subclass (Note Person in bracket)\n",
        "class Employee(Person):\n",
        "\n",
        "\t# Here we return true\n",
        "\tdef isEmployee(self):\n",
        "\t\treturn True\n",
        "\n",
        "\n",
        "# Driver code\n",
        "emp = Person(\"student1\") # An Object of Person\n",
        "print(emp.getName(), emp.isEmployee())\n",
        "\n",
        "emp = Employee(\"student2\") # An Object of Employee\n",
        "print(emp.getName(), emp.isEmployee())\n"
      ],
      "metadata": {
        "id": "43Swn3oncef0"
      },
      "execution_count": null,
      "outputs": []
    },
    {
      "cell_type": "code",
      "source": [
        "class animal():\n",
        "  def eat(self):\n",
        "    print('dog eat wheat')\n",
        "\n",
        "\n",
        "class dog(animal):\n",
        "  def bark(self):\n",
        "    print()\n",
        "  def eat(self):\n",
        "    super(dog, self).eat()\n",
        "    print(\"Dog eat food\")\n",
        "\n",
        "d = dog()\n",
        "d.eat()\n"
      ],
      "metadata": {
        "id": "ITCDxtp0cgoe",
        "colab": {
          "base_uri": "https://localhost:8080/"
        },
        "outputId": "fc4af3e6-9ff1-49ff-f29f-fc31190c25e7"
      },
      "execution_count": null,
      "outputs": [
        {
          "output_type": "stream",
          "name": "stdout",
          "text": [
            "dog eat wheat\n",
            "Dog eat food\n"
          ]
        }
      ]
    },
    {
      "cell_type": "markdown",
      "source": [
        "**workin with modules in python**\n",
        "* Math module\n",
        "* NumPY"
      ],
      "metadata": {
        "id": "_E43Flu7cZlO"
      }
    },
    {
      "cell_type": "code",
      "source": [
        "import math\n",
        "num = math.sqrt(25)\n",
        "print(num)\n"
      ],
      "metadata": {
        "colab": {
          "base_uri": "https://localhost:8080/"
        },
        "id": "NSQonCs4cNaZ",
        "outputId": "5ed836f8-7ed8-4d50-a68d-ee3219dd7e06"
      },
      "execution_count": null,
      "outputs": [
        {
          "output_type": "stream",
          "name": "stdout",
          "text": [
            "5.0\n"
          ]
        }
      ]
    },
    {
      "cell_type": "code",
      "source": [
        "import math as m\n",
        "num = m.sqrt(46)\n",
        "print(num)"
      ],
      "metadata": {
        "colab": {
          "base_uri": "https://localhost:8080/"
        },
        "id": "wWLmrUx3cU73",
        "outputId": "2173ed71-1904-4a62-94d9-932de0470350"
      },
      "execution_count": null,
      "outputs": [
        {
          "output_type": "stream",
          "name": "stdout",
          "text": [
            "6.782329983125268\n"
          ]
        }
      ]
    },
    {
      "cell_type": "code",
      "source": [
        "from math import sqrt\n",
        "num = sqrt(56)\n",
        "print(num)\n"
      ],
      "metadata": {
        "colab": {
          "base_uri": "https://localhost:8080/"
        },
        "id": "OjErJ7V9cXvi",
        "outputId": "d72eddb6-c114-4d42-f270-af749a1e0d17"
      },
      "execution_count": null,
      "outputs": [
        {
          "output_type": "stream",
          "name": "stdout",
          "text": [
            "7.483314773547883\n"
          ]
        }
      ]
    },
    {
      "cell_type": "code",
      "source": [
        "!pip install matplotlib"
      ],
      "metadata": {
        "colab": {
          "base_uri": "https://localhost:8080/"
        },
        "id": "XPL_C8nhTTy-",
        "outputId": "1f28eaa5-4df5-4bc8-c837-355a2e172bfe"
      },
      "execution_count": null,
      "outputs": [
        {
          "output_type": "stream",
          "name": "stdout",
          "text": [
            "Looking in indexes: https://pypi.org/simple, https://us-python.pkg.dev/colab-wheels/public/simple/\n",
            "Requirement already satisfied: matplotlib in /usr/local/lib/python3.7/dist-packages (3.2.2)\n",
            "Requirement already satisfied: cycler>=0.10 in /usr/local/lib/python3.7/dist-packages (from matplotlib) (0.11.0)\n",
            "Requirement already satisfied: kiwisolver>=1.0.1 in /usr/local/lib/python3.7/dist-packages (from matplotlib) (1.4.4)\n",
            "Requirement already satisfied: pyparsing!=2.0.4,!=2.1.2,!=2.1.6,>=2.0.1 in /usr/local/lib/python3.7/dist-packages (from matplotlib) (3.0.9)\n",
            "Requirement already satisfied: python-dateutil>=2.1 in /usr/local/lib/python3.7/dist-packages (from matplotlib) (2.8.2)\n",
            "Requirement already satisfied: numpy>=1.11 in /usr/local/lib/python3.7/dist-packages (from matplotlib) (1.21.6)\n",
            "Requirement already satisfied: typing-extensions in /usr/local/lib/python3.7/dist-packages (from kiwisolver>=1.0.1->matplotlib) (4.1.1)\n",
            "Requirement already satisfied: six>=1.5 in /usr/local/lib/python3.7/dist-packages (from python-dateutil>=2.1->matplotlib) (1.15.0)\n"
          ]
        }
      ]
    },
    {
      "cell_type": "markdown",
      "source": [
        "Activity : Practice different modules of maths library"
      ],
      "metadata": {
        "id": "DKK_71C3Kox9"
      }
    },
    {
      "cell_type": "code",
      "source": [
        "# importing the required module\n",
        "import matplotlib.pyplot as plt\n",
        "\n",
        "# x axis values\n",
        "x = [1,2,3]\n",
        "# corresponding y axis values\n",
        "y = [2,4,1]\n",
        "\n",
        "# plotting the points\n",
        "plt.plot(x, y, color='green', linestyle='dashed', linewidth = 3,\n",
        "         marker='o', markerfacecolor='blue', markersize=12)\n",
        "\n",
        "# naming the x axis\n",
        "plt.xlabel('x - axis')\n",
        "# naming the y axis\n",
        "plt.ylabel('y - axis')\n",
        "\n",
        "# giving a title to my graph\n",
        "plt.title('This is practice graph')\n",
        "\n",
        "# function to show the plot\n",
        "plt.show()\n"
      ],
      "metadata": {
        "colab": {
          "base_uri": "https://localhost:8080/",
          "height": 295
        },
        "id": "PEkTXpUGHEen",
        "outputId": "17010666-e874-4400-e4a1-dcfc0953a124"
      },
      "execution_count": null,
      "outputs": [
        {
          "output_type": "display_data",
          "data": {
            "text/plain": [
              "<Figure size 432x288 with 1 Axes>"
            ],
            "image/png": "[encoded data removed]"
          },
          "metadata": {
            "needs_background": "light"
          }
        }
      ]
    },
    {
      "cell_type": "code",
      "source": [
        "import matplotlib.pyplot as plt\n",
        "\n",
        "# line 1 points\n",
        "x1 = [1,2,3]\n",
        "y1 = [2,4,1]\n",
        "# plotting the line 1 points\n",
        "plt.plot(x1, y1, label = \"line 1\")\n",
        "\n",
        "# line 2 points\n",
        "x2 = [1,2,3]\n",
        "y2 = [4,1,3]\n",
        "# plotting the line 2 points\n",
        "plt.plot(x2, y2, label = \"line 2\")\n",
        "\n",
        "# naming the x axis\n",
        "plt.xlabel('x - axis')\n",
        "# naming the y axis\n",
        "plt.ylabel('y - axis')\n",
        "# giving a title to my graph\n",
        "plt.title('Two lines on same graph!')\n",
        "\n",
        "# show a legend on the plot\n",
        "plt.legend()\n",
        "\n",
        "# function to show the plot\n",
        "plt.show()\n"
      ],
      "metadata": {
        "id": "y822vN8UXhmu"
      },
      "execution_count": null,
      "outputs": []
    },
    {
      "cell_type": "code",
      "source": [
        "!pip install numpy"
      ],
      "metadata": {
        "id": "7w-kAU4RdU3Q",
        "colab": {
          "base_uri": "https://localhost:8080/"
        },
        "outputId": "a23d90c8-723c-4ffc-c8e2-5bf91a3a4bde"
      },
      "execution_count": null,
      "outputs": [
        {
          "output_type": "stream",
          "name": "stdout",
          "text": [
            "Looking in indexes: https://pypi.org/simple, https://us-python.pkg.dev/colab-wheels/public/simple/\n",
            "Requirement already satisfied: numpy in /usr/local/lib/python3.7/dist-packages (1.21.6)\n"
          ]
        }
      ]
    },
    {
      "cell_type": "code",
      "source": [
        "import numpy as np\n",
        "\n",
        "arr = np.array([1, 2, 3, 4, 5])\n",
        "\n",
        "print(arr)"
      ],
      "metadata": {
        "colab": {
          "base_uri": "https://localhost:8080/"
        },
        "id": "dZC6E3RRN6yV",
        "outputId": "c6bf4506-7711-42b7-c39b-ad4c5e7005f4"
      },
      "execution_count": null,
      "outputs": [
        {
          "output_type": "stream",
          "name": "stdout",
          "text": [
            "[1 2 3 4 5]\n"
          ]
        }
      ]
    },
    {
      "cell_type": "code",
      "source": [
        "\n",
        "\n",
        "arr = np.array([[1,2,3,4,5], [6,7,8,9,10]])\n",
        "\n",
        "print('2nd element on 1st row: ', arr[0, 4])"
      ],
      "metadata": {
        "id": "xmsj8ZNaOBpA",
        "colab": {
          "base_uri": "https://localhost:8080/"
        },
        "outputId": "6e095c3b-6c3e-4846-84d1-e926d176e5a6"
      },
      "execution_count": null,
      "outputs": [
        {
          "output_type": "stream",
          "name": "stdout",
          "text": [
            "2nd element on 1st row:  5\n"
          ]
        }
      ]
    },
    {
      "cell_type": "code",
      "source": [
        "\n",
        "\n",
        "arr = np.array([[1,2,3,4,5], [6,7,8,9,10]])\n",
        "\n",
        "print('5th element on 2nd row: ', arr[1, 4])"
      ],
      "metadata": {
        "colab": {
          "base_uri": "https://localhost:8080/"
        },
        "id": "8JOjbQIvR-jv",
        "outputId": "7391ca76-c89c-422e-f70d-7f915b380f0d"
      },
      "execution_count": null,
      "outputs": [
        {
          "output_type": "stream",
          "name": "stdout",
          "text": [
            "5th element on 2nd row:  10\n"
          ]
        }
      ]
    },
    {
      "cell_type": "code",
      "source": [
        "\n",
        "\n",
        "arr = np.array([[1,2,3,4,5], [6,7,8,9,10]])\n",
        "\n",
        "print('Last element from 2nd dim: ', arr[])"
      ],
      "metadata": {
        "colab": {
          "base_uri": "https://localhost:8080/"
        },
        "id": "7YSpI5pISC9V",
        "outputId": "2643c5ad-9ecb-4d7c-814c-907b00e019f5"
      },
      "execution_count": null,
      "outputs": [
        {
          "output_type": "stream",
          "name": "stdout",
          "text": [
            "Last element from 2nd dim:  10\n"
          ]
        }
      ]
    },
    {
      "cell_type": "code",
      "source": [
        "#np.arange(start,stop,step)\n",
        "np.arange(1,20,2)"
      ],
      "metadata": {
        "id": "fZzjQ3z6SMlH",
        "colab": {
          "base_uri": "https://localhost:8080/"
        },
        "outputId": "6e8de7ca-560f-4da6-a252-d3d9f72be7a4"
      },
      "execution_count": null,
      "outputs": [
        {
          "output_type": "execute_result",
          "data": {
            "text/plain": [
              "array([ 1,  3,  5,  7,  9, 11, 13, 15, 17, 19])"
            ]
          },
          "metadata": {},
          "execution_count": 8
        }
      ]
    },
    {
      "cell_type": "code",
      "source": [
        "np.linspace(0,5,3)"
      ],
      "metadata": {
        "colab": {
          "base_uri": "https://localhost:8080/"
        },
        "id": "jw6YZLwHSUHn",
        "outputId": "905b1b54-3b30-48a4-cde3-b99d458f5e06"
      },
      "execution_count": null,
      "outputs": [
        {
          "output_type": "execute_result",
          "data": {
            "text/plain": [
              "array([0. , 2.5, 5. ])"
            ]
          },
          "metadata": {},
          "execution_count": 10
        }
      ]
    },
    {
      "cell_type": "markdown",
      "source": [
        "**Lab-05**\n"
      ],
      "metadata": {
        "id": "fOGmRPVDGWJ6"
      }
    },
    {
      "cell_type": "code",
      "source": [
        "import numpy as np\n",
        "np.zeros(5)"
      ],
      "metadata": {
        "colab": {
          "base_uri": "https://localhost:8080/"
        },
        "id": "z_bFjQwXSb3c",
        "outputId": "a2d8a8be-0555-4c02-9379-b353cdf77f4f"
      },
      "execution_count": null,
      "outputs": [
        {
          "output_type": "execute_result",
          "data": {
            "text/plain": [
              "array([0., 0., 0., 0., 0.])"
            ]
          },
          "metadata": {},
          "execution_count": 2
        }
      ]
    },
    {
      "cell_type": "code",
      "source": [
        "np.random.random((10,5))"
      ],
      "metadata": {
        "colab": {
          "base_uri": "https://localhost:8080/"
        },
        "id": "Q8WW_D4US4Rf",
        "outputId": "9e8e8003-d0f8-41db-ba8d-9a860b995d39"
      },
      "execution_count": null,
      "outputs": [
        {
          "output_type": "execute_result",
          "data": {
            "text/plain": [
              "array([[0.47610307, 0.83037429, 0.38464029, 0.75187623, 0.48461837],\n",
              "       [0.74047775, 0.46787493, 0.59861446, 0.04399633, 0.94706592],\n",
              "       [0.49977664, 0.36086535, 0.15724142, 0.48912158, 0.83504992],\n",
              "       [0.4131358 , 0.14657774, 0.23940002, 0.54831973, 0.2824789 ],\n",
              "       [0.50543539, 0.75983281, 0.03640529, 0.58199314, 0.11506587],\n",
              "       [0.88573939, 0.30357054, 0.19119772, 0.93422171, 0.279427  ],\n",
              "       [0.13880226, 0.22123734, 0.4015718 , 0.80296501, 0.22918219],\n",
              "       [0.36349101, 0.33511111, 0.12228542, 0.46675944, 0.54432093],\n",
              "       [0.82120273, 0.92697858, 0.7894411 , 0.74220369, 0.35791525],\n",
              "       [0.87286717, 0.88997828, 0.75884484, 0.94173207, 0.1255366 ]])"
            ]
          },
          "metadata": {},
          "execution_count": 7
        }
      ]
    },
    {
      "cell_type": "code",
      "source": [
        "#### Slice elements from index 1 to index 5 from the following array:\n",
        "\n",
        "import numpy as np\n",
        "\n",
        "arr = np.array([1, 2, 3, 4, 5, 6, 7])\n",
        "\n",
        "print(arr[1:5])"
      ],
      "metadata": {
        "colab": {
          "base_uri": "https://localhost:8080/"
        },
        "id": "kiluer7YTJwv",
        "outputId": "3f77571b-ae5f-421e-c159-934938cf8f16"
      },
      "execution_count": null,
      "outputs": [
        {
          "output_type": "stream",
          "name": "stdout",
          "text": [
            "[2 3 4 5]\n"
          ]
        }
      ]
    },
    {
      "cell_type": "code",
      "source": [
        "#### check datatype of numpy\n",
        "import numpy as np\n",
        "\n",
        "arr = np.array([1, 2, 3, 4])\n",
        "\n",
        "print(arr.dtype)"
      ],
      "metadata": {
        "colab": {
          "base_uri": "https://localhost:8080/"
        },
        "id": "glGrNvpKcmIv",
        "outputId": "95b8b871-682f-433e-ea16-e5f0aa91d216"
      },
      "execution_count": null,
      "outputs": [
        {
          "output_type": "stream",
          "name": "stdout",
          "text": [
            "int64\n"
          ]
        }
      ]
    },
    {
      "cell_type": "markdown",
      "source": [
        "**The Difference Between Copy and View**\n",
        "The main difference between a copy and a view of an array is that the copy is a new array, and the view is just a view of the original array.\n",
        "\n",
        "The copy owns the data and any changes made to the copy will not affect original array, and any changes made to the original array will not affect the copy.\n",
        "\n",
        "The view does not own the data and any changes made to the view will affect the original array, and any changes made to the original array will affect the view."
      ],
      "metadata": {
        "id": "6TFNZhnMc3-1"
      }
    },
    {
      "cell_type": "code",
      "source": [
        "##make an array , make a copy of array, do changes and see if it affects the original array\n",
        "\n",
        "import numpy as np\n",
        "\n",
        "arr = np.array([1, 2, 3, 4, 5])\n",
        "x = arr.copy()\n",
        "arr[0] = 42\n",
        "\n",
        "print(arr)\n",
        "print(x)"
      ],
      "metadata": {
        "colab": {
          "base_uri": "https://localhost:8080/"
        },
        "id": "oYdgulLmctFo",
        "outputId": "216535b2-5a91-416c-ea50-65cc012102b4"
      },
      "execution_count": null,
      "outputs": [
        {
          "output_type": "stream",
          "name": "stdout",
          "text": [
            "[42  2  3  4  5]\n",
            "[1 2 3 4 5]\n"
          ]
        }
      ]
    },
    {
      "cell_type": "code",
      "source": [
        "import numpy as np\n",
        "\n",
        "arr = np.array([1, 2, 3, 4, 5])\n",
        "x = arr.view()\n",
        "arr[0] = 42\n",
        "\n",
        "print(arr)\n",
        "print(x)"
      ],
      "metadata": {
        "colab": {
          "base_uri": "https://localhost:8080/"
        },
        "id": "dn80BqDVdFnb",
        "outputId": "b1d01f73-47a4-4a76-8d65-a11bc4b372bd"
      },
      "execution_count": null,
      "outputs": [
        {
          "output_type": "stream",
          "name": "stdout",
          "text": [
            "[42  2  3  4  5]\n",
            "[42  2  3  4  5]\n"
          ]
        }
      ]
    },
    {
      "cell_type": "code",
      "source": [
        "####join vs add of array\n",
        "import numpy as np\n",
        "\n",
        "arr1 = np.array([1, 2, 3])\n",
        "\n",
        "arr2 = np.array([4, 5, 6])\n",
        "\n",
        "arr = np.concatenate((arr1, arr2))\n",
        "\n",
        "print(arr)\n",
        "\n",
        "\n",
        "\n",
        "\n",
        "\n",
        "\n",
        "sum = arr1 + arr2\n",
        "print(sum)"
      ],
      "metadata": {
        "colab": {
          "base_uri": "https://localhost:8080/"
        },
        "id": "aPDdfd1OdF2D",
        "outputId": "30d97d01-2c9f-4573-dbc4-175ffac86138"
      },
      "execution_count": null,
      "outputs": [
        {
          "output_type": "stream",
          "name": "stdout",
          "text": [
            "[1 2 3 4 5 6]\n",
            "[5 7 9]\n"
          ]
        }
      ]
    },
    {
      "cell_type": "code",
      "source": [
        "##split\n",
        "import numpy as np\n",
        "\n",
        "arr = np.array([1, 2, 3, 4, 5, 6])\n",
        "\n",
        "newarr = np.array_split(arr, 3)\n",
        "\n",
        "print(newarr)"
      ],
      "metadata": {
        "colab": {
          "base_uri": "https://localhost:8080/"
        },
        "id": "FjB9W5v2dwza",
        "outputId": "22313c28-bf07-4ede-addc-9bc82cecba08"
      },
      "execution_count": null,
      "outputs": [
        {
          "output_type": "stream",
          "name": "stdout",
          "text": [
            "[array([1, 2]), array([3, 4]), array([5, 6])]\n"
          ]
        }
      ]
    },
    {
      "cell_type": "code",
      "source": [
        "### array search\n",
        "\n",
        "\n",
        "import numpy as np\n",
        "\n",
        "arr = np.array([1, 2, 3, 4, 5, 4, 4])\n",
        "\n",
        "x = np.where(arr == 6)\n",
        "\n",
        "print(x)"
      ],
      "metadata": {
        "colab": {
          "base_uri": "https://localhost:8080/"
        },
        "id": "MWx75-mieFM2",
        "outputId": "2da606b5-5361-4b1e-f9bf-5e4d2bf45c85"
      },
      "execution_count": null,
      "outputs": [
        {
          "output_type": "stream",
          "name": "stdout",
          "text": [
            "(array([], dtype=int64),)\n"
          ]
        }
      ]
    },
    {
      "cell_type": "code",
      "source": [
        "###find where valaues are even\n",
        "import numpy as np\n",
        "\n",
        "arr = np.array([1, 2, 3, 4, 5, 6, 7, 8])\n",
        "\n",
        "x = np.where(arr%2 == 0)\n",
        "\n",
        "print(x)"
      ],
      "metadata": {
        "colab": {
          "base_uri": "https://localhost:8080/"
        },
        "id": "Pdaj3AMqePTs",
        "outputId": "d2026436-deec-4bba-b911-6c98261de050"
      },
      "execution_count": null,
      "outputs": [
        {
          "output_type": "stream",
          "name": "stdout",
          "text": [
            "(array([1, 3, 5, 7]),)\n"
          ]
        }
      ]
    },
    {
      "cell_type": "code",
      "source": [
        "###sort of array\n",
        "import numpy as np\n",
        "\n",
        "arr = np.array([3, 2, 0, 1])\n",
        "\n",
        "sort = np.sort(arr)\n",
        "print(sort)\n"
      ],
      "metadata": {
        "id": "GyFU91KAeZze",
        "colab": {
          "base_uri": "https://localhost:8080/"
        },
        "outputId": "72d95ee1-6d82-419a-d4b7-81d52ad00242"
      },
      "execution_count": null,
      "outputs": [
        {
          "output_type": "stream",
          "name": "stdout",
          "text": [
            "[0 1 2 3]\n"
          ]
        }
      ]
    },
    {
      "cell_type": "code",
      "source": [
        "### TRY SORTING ALPHABETS, I.E STRINGS"
      ],
      "metadata": {
        "id": "z_-mIQpEewvY"
      },
      "execution_count": null,
      "outputs": []
    },
    {
      "cell_type": "markdown",
      "source": [
        "**Activity 1:**\n",
        "Write a program to perform different operations with Numpy arrays. The following operations are\n",
        "used for practice purposes.\n",
        "Operator Descriptions\n",
        "1. np.linspace(0,2,9) Add evenly spaced values btw intervals to an\n",
        "array of lengths.\n",
        "2. np.zeros((1,2)) Create and array filled with zeros\n",
        "3. np.ones((1,2)) Creates an array filled with ones\n",
        "4. np.random.random((5,5)) Creates random array"
      ],
      "metadata": {
        "id": "rCxhcMEQfgTf"
      }
    },
    {
      "cell_type": "markdown",
      "source": [
        "**Activity 2:**\n",
        "Write a program in which some other manipulations are performed such as:\n",
        "Operator Descriptions\n",
        "1. np.append(a,b) Append items to array\n",
        "2. np.insert(array, 1, 2, axis) Insert items into array at axis 0 or 1\n",
        "3. np.resize((2,4)) Resize array to shape(2,4)\n",
        "4. np.delete(array,1,axis) Deletes items from array\n",
        "5. np.concatenate((a,b),axis=0) Concatenates 2 arrays, adds to end"
      ],
      "metadata": {
        "id": "0zNPAqh6fteB"
      }
    },
    {
      "cell_type": "code",
      "source": [
        "# Activity 3:\n",
        "# Write a program that delivered the difference between copying an array to another and assigning\n",
        "# an array to other.\n",
        "arr1 = np.array([2,6,8,3,1, 'strings'])\n",
        "arr2=arr1\n",
        "arr3 = arr1.copy()\n",
        "print((arr1))\n",
        "print(id(arr2))\n",
        "print(id(arr3))"
      ],
      "metadata": {
        "id": "mw0Zz5ctf1Ex",
        "colab": {
          "base_uri": "https://localhost:8080/"
        },
        "outputId": "b934898e-b2ad-4718-c21e-34fa14526365"
      },
      "execution_count": null,
      "outputs": [
        {
          "output_type": "stream",
          "name": "stdout",
          "text": [
            "['2' '6' '8' '3' '1' 'strings']\n",
            "140500630920048\n",
            "140500630882320\n"
          ]
        }
      ]
    },
    {
      "cell_type": "code",
      "source": [
        "# Matrices:\n",
        "# A matrix is a two-dimensional data structure where numbers are arranged into rows and columns.\n",
        "# Python doesn't have a built-in type for matrices. However, we can treat a list of a list as a matrix.\n",
        "# For example:\n",
        "Array = [[1, 4, 5],\n",
        " [-5, 8, 9]]\n",
        "#now to convert this array into a matrix using the following code:\n",
        "M = matrix(Array)\n",
        "Print(M)\n",
        "# if we want to initialize a matrix without the lists then the syntax would be the following.\n",
        "m = matrix('1,2; 3,6; 4,5; 6,7')\n",
        "print(m)\n"
      ],
      "metadata": {
        "colab": {
          "base_uri": "https://localhost:8080/",
          "height": 246
        },
        "id": "-IfNTAoRf2zW",
        "outputId": "b00268d1-768d-42c3-876c-165d9cd90baf"
      },
      "execution_count": null,
      "outputs": [
        {
          "output_type": "error",
          "ename": "NameError",
          "evalue": "ignored",
          "traceback": [
            "\u001b[0;31m---------------------------------------------------------------------------\u001b[0m",
            "\u001b[0;31mNameError\u001b[0m                                 Traceback (most recent call last)",
            "\u001b[0;32m<ipython-input-31-09ec5ddcc1e5>\u001b[0m in \u001b[0;36m<module>\u001b[0;34m\u001b[0m\n\u001b[1;32m      6\u001b[0m  [-5, 8, 9]]\n\u001b[1;32m      7\u001b[0m \u001b[0;31m#now to convert this array into a matrix using the following code:\u001b[0m\u001b[0;34m\u001b[0m\u001b[0;34m\u001b[0m\u001b[0;34m\u001b[0m\u001b[0m\n\u001b[0;32m----> 8\u001b[0;31m \u001b[0mM\u001b[0m \u001b[0;34m=\u001b[0m \u001b[0mmatrix\u001b[0m\u001b[0;34m(\u001b[0m\u001b[0mArray\u001b[0m\u001b[0;34m)\u001b[0m\u001b[0;34m\u001b[0m\u001b[0;34m\u001b[0m\u001b[0m\n\u001b[0m\u001b[1;32m      9\u001b[0m \u001b[0mPrint\u001b[0m\u001b[0;34m(\u001b[0m\u001b[0mM\u001b[0m\u001b[0;34m)\u001b[0m\u001b[0;34m\u001b[0m\u001b[0;34m\u001b[0m\u001b[0m\n\u001b[1;32m     10\u001b[0m \u001b[0;31m# if we want to initialize a matrix without the lists then the syntax would be the following.\u001b[0m\u001b[0;34m\u001b[0m\u001b[0;34m\u001b[0m\u001b[0;34m\u001b[0m\u001b[0m\n",
            "\u001b[0;31mNameError\u001b[0m: name 'matrix' is not defined"
          ]
        }
      ]
    },
    {
      "cell_type": "code",
      "source": [
        "# Activity 4:\n",
        "# Write a program to multiply two matrices.\n",
        "\n",
        "\n",
        "\n",
        "import numpy as np\n",
        "A = np.array([[3, 6, 7], [5, -3, 0]])\n",
        "B = np.array([[1, 1], [2, 1], [3, -3]])\n",
        "C = A.dot(B)\n",
        "print(C)\n"
      ],
      "metadata": {
        "colab": {
          "base_uri": "https://localhost:8080/"
        },
        "id": "O9sGx6vof-UJ",
        "outputId": "aef2c273-44ed-474d-b4ac-681c64028635"
      },
      "execution_count": null,
      "outputs": [
        {
          "output_type": "stream",
          "name": "stdout",
          "text": [
            "[[ 36 -12]\n",
            " [ -1   2]]\n"
          ]
        }
      ]
    },
    {
      "cell_type": "code",
      "source": [
        "# Activity 5:\n",
        "# Write a program to take the transpose of a matrix.\n",
        "A = np.array([[1, 1], [2, 1], [3, -3]])\n",
        "print(A.transpose())"
      ],
      "metadata": {
        "id": "N6LYB-ckgLuf",
        "colab": {
          "base_uri": "https://localhost:8080/"
        },
        "outputId": "d7e86700-d425-4e8e-81c1-e18ac332d304"
      },
      "execution_count": null,
      "outputs": [
        {
          "output_type": "stream",
          "name": "stdout",
          "text": [
            "[[ 1  2  3]\n",
            " [ 1  1 -3]]\n"
          ]
        }
      ]
    },
    {
      "cell_type": "code",
      "source": [
        "# Activity 6:\n",
        "# Access matrix elements, rows, and columns. Similar to lists, we can access matrix elements using\n",
        "# an index. Let's start with a one-dimensional NumPy array.\n",
        "import numpy as np\n",
        "A = np.array([2, 4, 6, 8, 10])\n",
        "print(\"A[0] =\", A[0]) # First element\n",
        "print(\"A[2] =\", A[2]) # Third element\n",
        "print(\"A[-1] =\", A[-1]) # Last element"
      ],
      "metadata": {
        "id": "ImTA3bPcgTHq"
      },
      "execution_count": null,
      "outputs": []
    },
    {
      "cell_type": "code",
      "source": [
        "# Now, let's see how we can access elements of a two-dimensional array (which is basically a\n",
        "# matrix).\n",
        "\n",
        "import numpy as np\n",
        "A = np.array([[1, 4, 5, 12],\n",
        " [-5, 8, 9, 0],\n",
        " [-6, 7, 11, 19]])\n",
        "# First element of first row\n",
        "print(\"A[0][0] =\", A[0][0])\n",
        "# Third element of second row\n",
        "print(\"A[1][2] =\", A[1][2])\n",
        "# Last element of last row\n",
        "print(\"A[-1][-1] =\", A[-1][-1])\n",
        "# Access rows of a Matrix\n",
        "import numpy as np\n",
        "A = np.array([[1, 4, 5, 12],\n",
        " [-5, 8, 9, 0],\n",
        " [-6, 7, 11, 19]])\n",
        "print(\"A[0] =\", A[0]) # First Row\n",
        "print(\"A[2] =\", A[2]) # Third Row\n",
        "print(\"A[-1] =\", A[-1]) # Last Row (3rd row in this case)"
      ],
      "metadata": {
        "id": "h3NZ0FRSgXyN"
      },
      "execution_count": null,
      "outputs": []
    },
    {
      "cell_type": "markdown",
      "source": [
        "\n",
        "\n",
        "**Simple reflex agents**\n",
        "Simple reflex agents ignore the rest of the percept history and act only on the basis of the current percept. Percept history is the history of all that an agent has perceived to date. The agent function is based on the condition-action rule. A condition-action rule is a rule that maps a state i.e, condition to an action. If the condition is true, then the action is taken, else not. This agent function only succeeds when the environment is fully observable. For simple reflex agents operating in partially observable environments, infinite loops are often unavoidable. It may be possible to escape from infinite loops if the agent can randomize its actions.\n",
        "\n",
        "Problems with Simple reflex agents are :\n",
        "\n",
        "Very limited intelligence.\n",
        "1. No knowledge of non-perceptual parts of the state.\n",
        "2. Usually too big to generate and store.\n",
        "3. If there occurs any change in the environment, then the collection of rules need to be updated."
      ],
      "metadata": {
        "id": "fzl2OxMfzUFq"
      }
    },
    {
      "cell_type": "markdown",
      "source": [
        "***Activity 1.***\n",
        "\n",
        "Write a program for a simple reflex agent. The agent will act as a vacuum cleaner. In the first\n",
        "activity, we will create an environment for the agent.\n",
        "1. The environment is divided into two portions A and B.\n",
        "2. Then define two states for each portion.\n",
        "3. 0 indicates the cleaned state and 1 indicates the dirty state.\n",
        "4. We will initialize each portion with a random state that would be either 0 or 1\n",
        "5. The code is as follows:\n"
      ],
      "metadata": {
        "id": "qYkL-Q9x2PQh"
      }
    },
    {
      "cell_type": "code",
      "source": [
        "import random\n",
        "class Environment:\n",
        " def __init__(self):\n",
        "  #0 indicate the cleaned and 1 indicate dirty\n",
        "  self.En_sensors={'A':'0','B':'1'}\n",
        "  self.En_sensors['A'] = random.randint(0,1)\n",
        "  self.En_sensors['B'] = random.randint(0,1)\n",
        "  print(self.En_sensors)"
      ],
      "metadata": {
        "id": "Qp0wqt3GzgMF"
      },
      "execution_count": null,
      "outputs": []
    },
    {
      "cell_type": "markdown",
      "source": [
        "**Activity 2.**\n",
        "\n",
        "In this activity, we will develop a simple reflex agent. And also defines the actions of the agent.\n",
        "The agent has the following capabilities.\n",
        "1. The agent will be placed in a random portion either in A or in B.\n",
        "2. The agent will check the state of the portion.\n",
        "3. If the state is dirty that agent will clean that portion. And then move to next.\n",
        "4. If the state is clean then move to the next portion without doing anything here.\n",
        "5. The agent will repeat this action until the environment is cleaned by an agent.\n",
        "6. The code is as follows:"
      ],
      "metadata": {
        "id": "__odeqia2Ygx"
      }
    },
    {
      "cell_type": "code",
      "source": [
        "import random\n",
        "\n",
        "\n",
        "class Environment(object):\n",
        "    def __init__(self):\n",
        "        self.locationCondition = {'A': '0', 'B': '0'}\n",
        "        self.locationCondition['A'] = random.randint(0, 1)\n",
        "        self.locationCondition['B'] = random.randint(0, 1)\n",
        "\n",
        "\n",
        "class SimpleReflexVacuumAgent(Environment):\n",
        "    def __init__(self, Environment):\n",
        "        print (Environment.locationCondition)\n",
        "        Score = 0\n",
        "        vacuumLocation = random.randint(0, 1)\n",
        "        if vacuumLocation == 0:\n",
        "            print (\"Vacuum is randomly placed at Location A.\")\n",
        "            print (\"Location A is Dirty.\") if Environment.locationCondition['A'] == 1 else print(\"Location A is Clean.\")\n",
        "            if Environment.locationCondition['A'] == 1:\n",
        "                Environment.locationCondition['A'] = 0\n",
        "                Score += 1\n",
        "                print (\"Location A has been Cleaned.\")\n",
        "            print (\"Moving to Location B...\")\n",
        "            print (\"Location B is Dirty.\") if Environment.locationCondition['B'] == 1 else print(\"Location B is Clean.\")\n",
        "            if Environment.locationCondition['B'] == 1:\n",
        "                Environment.locationCondition['B'] = 0;\n",
        "                Score += 1\n",
        "                print (\"Location B has been Cleaned.\")\n",
        "            print(\"Environment is Clean.\")\n",
        "\n",
        "        elif vacuumLocation == 1:\n",
        "            print (\"Vacuum randomly placed at Location B.\")\n",
        "            print (\"Location B is Dirty.\") if Environment.locationCondition['B'] == 1 else print(\"Location B is Clean.\")\n",
        "            if Environment.locationCondition['B'] == 1:\n",
        "                Environment.locationCondition['B'] = 0\n",
        "                Score += 1\n",
        "                print (\"Location B has been Cleaned.\")\n",
        "            print (\"Moving to Location A...\")\n",
        "            print (\"Location A is Dirty.\") if Environment.locationCondition['A'] == 1 else print(\"Location A is Clean.\")\n",
        "            if Environment.locationCondition['A'] == 1:\n",
        "                Environment.locationCondition['A'] = 0;\n",
        "                Score += 1\n",
        "                print (\"Location A has been Cleaned.\")\n",
        "            print(\"Environment is Clean.\")\n",
        "\n",
        "        print (Environment.locationCondition)\n",
        "        print (\"Performance Measurement: \" + str(Score))\n",
        "\n",
        "\n",
        "theEnvironment = Environment()\n",
        "theVacuum = SimpleReflexVacuumAgent(theEnvironment)"
      ],
      "metadata": {
        "colab": {
          "base_uri": "https://localhost:8080/"
        },
        "id": "acwsb6mQzo3a",
        "outputId": "e0f2736a-1d2c-4fa6-f08d-2c5b3dbc19c4"
      },
      "execution_count": null,
      "outputs": [
        {
          "output_type": "stream",
          "name": "stdout",
          "text": [
            "{'A': 0, 'B': 0}\n",
            "Vacuum randomly placed at Location B.\n",
            "Location B is Clean.\n",
            "Moving to Location A...\n",
            "Location A is Clean.\n",
            "Environment is Clean.\n",
            "{'A': 0, 'B': 0}\n",
            "Performance Measurement: 0\n"
          ]
        }
      ]
    },
    {
      "cell_type": "markdown",
      "source": [
        "**Lab - 06**"
      ],
      "metadata": {
        "id": "d2Fvn73KZLz_"
      }
    },
    {
      "cell_type": "markdown",
      "source": [
        "Simple Reflex AgentsSimple reflex agents act only on the basis of the current percept, ignoring the rest of thepercept history. The agent function is based on the condition-action rule: if condition thenaction. This agent function only succeeds when the environment is fully observable. Somereflex   agents   can   also   contain   information   on   their   current   state   which   allows   them   todisregard conditions whose actuators are already triggered. A schematic diagram of a simplereflex agent is shown below:\n",
        "![image.png](data:image/png;base64,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)"
      ],
      "metadata": {
        "id": "qhNDn-J1v3vT"
      }
    },
    {
      "cell_type": "markdown",
      "source": [
        "**Activity :** Divide the environment into 3 partitions, how would you do it? what would be the performance measure in that case.\n",
        "Please elaborate"
      ],
      "metadata": {
        "id": "Fh2SGVINY6vK"
      }
    },
    {
      "cell_type": "code",
      "source": [
        "import random\n",
        "\n",
        "\n",
        "class Environment(object):\n",
        "    def __init__(self):\n",
        "        self.locationCondition = {'A': '0', 'B': '0', 'C': '0'}\n",
        "        self.locationCondition['A'] = random.randint(0, 1)\n",
        "        self.locationCondition['B'] = random.randint(0, 1)\n",
        "        self.locationCondition['C'] = random.randint(0, 1)\n",
        "\n",
        "\n",
        "class SimpleReflexVacuumAgent(Environment):\n",
        "    def __init__(self, Environment):\n",
        "        print (Environment.locationCondition)\n",
        "        Score = 0\n",
        "        vacuumLocation = random.randint(0, 2)\n",
        "        if vacuumLocation == 0:\n",
        "            print (\"Vacuum is randomly placed at Location A.\")\n",
        "            print (\"Location A is Dirty.\") if Environment.locationCondition['A'] == 1 else print(\"Location A is Clean.\")\n",
        "            if Environment.locationCondition['A'] == 1:\n",
        "                Environment.locationCondition['A'] = 0\n",
        "                Score += 1\n",
        "                print (\"Location A has been Cleaned.\")\n",
        "            print (\"Moving to Location B...\")\n",
        "            print (\"Location B is Dirty.\") if Environment.locationCondition['B'] == 1 else print(\"Location B is Clean.\")\n",
        "            if Environment.locationCondition['B'] == 1:\n",
        "                Environment.locationCondition['B'] = 0;\n",
        "                Score += 1\n",
        "                print (\"Location B has been Cleaned.\")\n",
        "\n",
        "        elif vacuumLocation == 1:\n",
        "            print (\"Vacuum randomly placed at Location B.\")\n",
        "            print (\"Location B is Dirty.\") if Environment.locationCondition['B'] == 1 else print(\"Location B is Clean.\")\n",
        "            if Environment.locationCondition['B'] == 1:\n",
        "                Environment.locationCondition['B'] = 0\n",
        "                Score += 1\n",
        "                print (\"Location B has been Cleaned.\")\n",
        "            print (\"Moving to Location A...\")\n",
        "            print (\"Location A is Dirty.\") if Environment.locationCondition['A'] == 1 else print(\"Location A is Clean.\")\n",
        "            if Environment.locationCondition['A'] == 1:\n",
        "                Environment.locationCondition['A'] = 0;\n",
        "                Score += 1\n",
        "                print (\"Location A has been Cleaned.\")\n",
        "            print (\"Moving to Location C...\")\n",
        "            print (\"Location C is Dirty.\") if Environment.locationCondition['C'] == 1 else print(\"Location C is Clean.\")\n",
        "            if Environment.locationCondition['C'] == 1:\n",
        "                Environment.locationCondition['C'] = 0;\n",
        "                Score += 1\n",
        "                print (\"Location C has been Cleaned.\")\n",
        "            print(\"Environment is Clean.\")\n",
        "        elif vacuumLocation == 2:\n",
        "          print (\"Vacuum randomly placed at Location C.\")\n",
        "          print (\"Location C is Dirty.\") if Environment.locationCondition['C'] == 1 else print(\"Location C is Clean.\")\n",
        "          if Environment.locationCondition['C'] == 1:\n",
        "              Environment.locationCondition['C'] = 0\n",
        "              Score += 1\n",
        "              print (\"Location C has been Cleaned.\")\n",
        "          print (\"Moving to Location A...\")\n",
        "          print (\"Location A is Dirty.\") if Environment.locationCondition['A'] == 1 else print(\"Location A is Clean.\")\n",
        "          if Environment.locationCondition['A'] == 1:\n",
        "              Environment.locationCondition['A'] = 0;\n",
        "              Score += 1\n",
        "              print (\"Location A has been Cleaned.\")\n",
        "          print (\"Moving to Location B...\")\n",
        "          print (\"Location B is Dirty.\") if Environment.locationCondition['B'] == 1 else print(\"Location B is Clean.\")\n",
        "          if Environment.locationCondition['B'] == 1:\n",
        "              Environment.locationCondition['B'] = 0;\n",
        "              Score += 1\n",
        "              print (\"Location B has been Cleaned.\")\n",
        "          print(\"Environment is Clean.\")\n",
        "\n",
        "        print (Environment.locationCondition)\n",
        "        print (\"Performance Measurement: \" + str(Score))\n",
        "\n",
        "\n",
        "theEnvironment = Environment()\n",
        "theVacuum = SimpleReflexVacuumAgent(theEnvironment)"
      ],
      "metadata": {
        "colab": {
          "base_uri": "https://localhost:8080/"
        },
        "id": "D11ldbq3XgX4",
        "outputId": "1baee2b4-7116-4519-a6bb-07f01d95d723"
      },
      "execution_count": null,
      "outputs": [
        {
          "output_type": "stream",
          "name": "stdout",
          "text": [
            "{'A': 0, 'B': 1, 'C': 1}\n",
            "Vacuum randomly placed at Location C.\n",
            "Location C is Dirty.\n",
            "Location C has been Cleaned.\n",
            "Moving to Location A...\n",
            "Location A is Clean.\n",
            "Moving to Location B...\n",
            "Location B is Dirty.\n",
            "Location B has been Cleaned.\n",
            "Environment is Clean.\n",
            "{'A': 0, 'B': 0, 'C': 0}\n",
            "Performance Measurement: 2\n"
          ]
        }
      ]
    },
    {
      "cell_type": "markdown",
      "source": [
        "Performance Measure:The performance measure evaluates the behaviour of the agent in an environment. A rationalagent acts to maximize the expected value of the performance measure, given the perceptsequence it has seen so far.Agent program:The job of A1 is to design the agent program that implements the agent function mappingpercepts to actions. The agent program implements the agent function. There exists a varietyof basic agent-program designs, reflecting the kind of information made explicit and used inthe   decision   process.   The   designs   vary   in   efficiency,   compactness,   and   flexibility.   Theappropriate design of the agent program depends on the nature of the environment."
      ],
      "metadata": {
        "id": "HxeLxqLewWrP"
      }
    },
    {
      "cell_type": "markdown",
      "source": [
        "**Activity 1.**\n",
        "Write a program to develop a simple reflex agent. The program defines an agent that will tell the\n",
        "action of an object based on its mood.\n",
        "\n",
        "• The agent per perceive the four object and their moods.\n",
        "\n",
        "• On the base of mood, the agent will take the action.\n",
        "\n",
        "• The example is as written."
      ],
      "metadata": {
        "id": "ZWuxWp17wkME"
      }
    },
    {
      "cell_type": "code",
      "source": [
        "percept = ['Hassan','Ahmed','Ali','Saad']\n",
        "states = ['happy','sad','angry','Normal']\n",
        "rules = ['smile','crying','shouting','Coding']\n",
        "def getState(precept_value):\n",
        " index = -1\n",
        " for x in percept:\n",
        "  index = index+1\n",
        "  if x==precept_value:\n",
        "    return states[index]\n",
        "def getRules(state_value):\n",
        " index = -1\n",
        " for i in states:\n",
        "  index = index+1\n",
        "  if i==state_value:\n",
        "    return rules[index]\n",
        "def simpleReflexAgent(percep):\n",
        " return getRules(getState(percep))\n",
        "print(\"Select Percetion Object\")\n",
        "print(\"0: Hamza\\n\",\"1: ALi\\n\", \"2: Ahmad\\n\",\"3: Saad\")\n",
        "num = int(input(\"Enter a desired number:\"))\n",
        "rule = simpleReflexAgent(percept[num])\n",
        "print(rule)"
      ],
      "metadata": {
        "id": "rHtv5nLH0LEt",
        "colab": {
          "base_uri": "https://localhost:8080/"
        },
        "outputId": "82f346d0-f13b-42d5-d653-b9e776ee2d31"
      },
      "execution_count": null,
      "outputs": [
        {
          "output_type": "stream",
          "name": "stdout",
          "text": [
            "Select Percetion Object\n",
            "0: Hamza\n",
            " 1: ALi\n",
            " 2: Ahmad\n",
            " 3: Saad\n",
            "Enter a desired number:1\n",
            "crying\n"
          ]
        }
      ]
    },
    {
      "cell_type": "markdown",
      "source": [
        "MODEL-BASED REFLEX AGENT PROGRAM\n",
        "A model-based reflex agent maintains some sort of internal state that depends on the percept history and thereby reflects at least some of the unobserved aspects of the current state. In addition to this, it also requires a model of the world, that is, knowledge about \"how the world works\".\n",
        "\n",
        "The schematic diagram shown in Figure 2.11 of the book will make this more clear:\n",
        "\n",
        "![image.png](data:image/png;base64,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)"
      ],
      "metadata": {
        "id": "NfCS0-I78O1l"
      }
    },
    {
      "cell_type": "markdown",
      "source": [
        "**Home assingment:\n",
        "Players-Cards Game:**\n",
        "You manage a casino where a probabilistic game of wages is played. There are ‘n’ players\n",
        "and ‘n’ cards involved in this game. A card is mapped to a player based on the outcome of\n",
        "a roll of dice-with-‘n’-faces.\n",
        "The problem is, you want to save as much money as you want therefore you want to fire\n",
        "your employee who hosts this game and rolls the dice.\n",
        "To save money, make an AI agent replace the casino employee who performs the tasks\n",
        "below to host the game.\n",
        "1. Identify the number of the contestants\n",
        "2. Add the same number of cards to the game\n",
        "3. Perform the roll of two dice; one for players and the other for cards.\n",
        "4. As per the value of the rolls, assign the corresponding card to the corresponding\n",
        "player.\n",
        "5. Once a card is assigned to a player, both are invalid if the rolls of dice call them\n",
        "again.\n",
        "6. Announce the winner – the player with the highest card value, as per the legend\n",
        "below.\n",
        "a. Cards Legend:\n",
        "i. The bigger the number, the higher the priority\n",
        "ii. Spades > Hearts > Diamonds > Clubs"
      ],
      "metadata": {
        "id": "Tsdq0cR7yuIX"
      }
    },
    {
      "cell_type": "markdown",
      "source": [
        "#Implementation of Two Player Tic-Tac-Toe game in Python\n",
        "\n",
        "Rules:"
      ],
      "metadata": {
        "id": "zzA-Mt1GdKT6"
      }
    },
    {
      "cell_type": "code",
      "source": [
        "\n",
        "\n",
        "''' We will make the board using dictionary\n",
        "    in which keys will be the location(i.e : top-left,mid-right,etc.)\n",
        "    and initialliy it's values will be empty space and then after every move\n",
        "    we will change the value according to player's choice of move. '''\n",
        "\n",
        "theBoard = {'7': ' ' , '8': ' ' , '9': ' ' ,\n",
        "            '4': ' ' , '5': ' ' , '6': ' ' ,\n",
        "            '1': ' ' , '2': ' ' , '3': ' ' }\n",
        "\n",
        "board_keys = []\n",
        "\n",
        "for key in theBoard:\n",
        "    board_keys.append(key)\n",
        "\n",
        "''' We will have to print the updated board after every move in the game and\n",
        "    thus we will make a function in which we'll define the printBoard function\n",
        "    so that we can easily print the board everytime by calling this function. '''\n",
        "\n",
        "def printBoard(board):\n",
        "    print(board['7'] + '|' + board['8'] + '|' + board['9'])\n",
        "    print('-+-+-')\n",
        "    print(board['4'] + '|' + board['5'] + '|' + board['6'])\n",
        "    print('-+-+-')\n",
        "    print(board['1'] + '|' + board['2'] + '|' + board['3'])\n",
        "\n",
        "# Now we'll write the main function which has all the gameplay functionality.\n",
        "def game():\n",
        "\n",
        "    turn = 'X'\n",
        "    count = 0\n",
        "\n",
        "\n",
        "    for i in range(10):\n",
        "        printBoard(theBoard)\n",
        "        print(\"It's your turn,\" + turn + \".Move to which place?\")\n",
        "\n",
        "        move = input()\n",
        "\n",
        "        if theBoard[move] == ' ':\n",
        "            theBoard[move] = turn\n",
        "            count += 1\n",
        "        else:\n",
        "            print(\"That place is already filled.\\nMove to which place?\")\n",
        "            continue\n",
        "\n",
        "        # Now we will check if player X or O has won,for every move after 5 moves.\n",
        "        if count >= 5:\n",
        "            if theBoard['7'] == theBoard['8'] == theBoard['9'] != ' ': # across the top\n",
        "                printBoard(theBoard)\n",
        "                print(\"\\nGame Over.\\n\")\n",
        "                print(\" **** \" +turn + \" won. ****\")\n",
        "                break\n",
        "            elif theBoard['4'] == theBoard['5'] == theBoard['6'] != ' ': # across the middle\n",
        "                printBoard(theBoard)\n",
        "                print(\"\\nGame Over.\\n\")\n",
        "                print(\" **** \" +turn + \" won. ****\")\n",
        "                break\n",
        "            elif theBoard['1'] == theBoard['2'] == theBoard['3'] != ' ': # across the bottom\n",
        "                printBoard(theBoard)\n",
        "                print(\"\\nGame Over.\\n\")\n",
        "                print(\" **** \" +turn + \" won. ****\")\n",
        "                break\n",
        "            elif theBoard['1'] == theBoard['4'] == theBoard['7'] != ' ': # down the left side\n",
        "                printBoard(theBoard)\n",
        "                print(\"\\nGame Over.\\n\")\n",
        "                print(\" **** \" +turn + \" won. ****\")\n",
        "                break\n",
        "            elif theBoard['2'] == theBoard['5'] == theBoard['8'] != ' ': # down the middle\n",
        "                printBoard(theBoard)\n",
        "                print(\"\\nGame Over.\\n\")\n",
        "                print(\" **** \" +turn + \" won. ****\")\n",
        "                break\n",
        "            elif theBoard['3'] == theBoard['6'] == theBoard['9'] != ' ': # down the right side\n",
        "                printBoard(theBoard)\n",
        "                print(\"\\nGame Over.\\n\")\n",
        "                print(\" **** \" +turn + \" won. ****\")\n",
        "                break\n",
        "            elif theBoard['7'] == theBoard['5'] == theBoard['3'] != ' ': # diagonal\n",
        "                printBoard(theBoard)\n",
        "                print(\"\\nGame Over.\\n\")\n",
        "                print(\" **** \" +turn + \" won. ****\")\n",
        "                break\n",
        "            elif theBoard['1'] == theBoard['5'] == theBoard['9'] != ' ': # diagonal\n",
        "                printBoard(theBoard)\n",
        "                print(\"\\nGame Over.\\n\")\n",
        "                print(\" **** \" +turn + \" won. ****\")\n",
        "                break\n",
        "\n",
        "        # If neither X nor O wins and the board is full, we'll declare the result as 'tie'.\n",
        "        if count == 9:\n",
        "            print(\"\\nGame Over.\\n\")\n",
        "            print(\"It's a Tie!!\")\n",
        "\n",
        "        # Now we have to change the player after every move.\n",
        "        if turn =='X':\n",
        "            turn = 'O'\n",
        "        else:\n",
        "            turn = 'X'\n",
        "\n",
        "    # Now we will ask if player wants to restart the game or not.\n",
        "    restart = input(\"Do want to play Again?(y/n)\")\n",
        "    if restart == \"y\" or restart == \"Y\":\n",
        "        for key in board_keys:\n",
        "            theBoard[key] = \" \"\n",
        "\n",
        "        game()\n",
        "\n",
        "if __name__ == \"__main__\":\n",
        "    game()"
      ],
      "metadata": {
        "colab": {
          "base_uri": "https://localhost:8080/",
          "height": 571
        },
        "id": "maGgjwlhdfQK",
        "outputId": "abe6939f-4bb6-47a6-a4eb-72113c1e81af"
      },
      "execution_count": null,
      "outputs": [
        {
          "output_type": "stream",
          "name": "stdout",
          "text": [
            " | | \n",
            "-+-+-\n",
            " | | \n",
            "-+-+-\n",
            " | | \n",
            "It's your turn,X.Move to which place?\n",
            "4\n",
            " | | \n",
            "-+-+-\n",
            "X| | \n",
            "-+-+-\n",
            " | | \n",
            "It's your turn,O.Move to which place?\n"
          ]
        },
        {
          "output_type": "error",
          "ename": "KeyboardInterrupt",
          "evalue": "ignored",
          "traceback": [
            "\u001b[0;31m---------------------------------------------------------------------------\u001b[0m",
            "\u001b[0;31mKeyboardInterrupt\u001b[0m                         Traceback (most recent call last)",
            "\u001b[0;32m<ipython-input-8-c56c1b4d634d>\u001b[0m in \u001b[0;36m<module>\u001b[0;34m\u001b[0m\n\u001b[1;32m    107\u001b[0m \u001b[0;34m\u001b[0m\u001b[0m\n\u001b[1;32m    108\u001b[0m \u001b[0;32mif\u001b[0m \u001b[0m__name__\u001b[0m \u001b[0;34m==\u001b[0m \u001b[0;34m\"__main__\"\u001b[0m\u001b[0;34m:\u001b[0m\u001b[0;34m\u001b[0m\u001b[0;34m\u001b[0m\u001b[0m\n\u001b[0;32m--> 109\u001b[0;31m     \u001b[0mgame\u001b[0m\u001b[0;34m(\u001b[0m\u001b[0;34m)\u001b[0m\u001b[0;34m\u001b[0m\u001b[0;34m\u001b[0m\u001b[0m\n\u001b[0m",
            "\u001b[0;32m<ipython-input-8-c56c1b4d634d>\u001b[0m in \u001b[0;36mgame\u001b[0;34m()\u001b[0m\n\u001b[1;32m     35\u001b[0m         \u001b[0mprint\u001b[0m\u001b[0;34m(\u001b[0m\u001b[0;34m\"It's your turn,\"\u001b[0m \u001b[0;34m+\u001b[0m \u001b[0mturn\u001b[0m \u001b[0;34m+\u001b[0m \u001b[0;34m\".Move to which place?\"\u001b[0m\u001b[0;34m)\u001b[0m\u001b[0;34m\u001b[0m\u001b[0;34m\u001b[0m\u001b[0m\n\u001b[1;32m     36\u001b[0m \u001b[0;34m\u001b[0m\u001b[0m\n\u001b[0;32m---> 37\u001b[0;31m         \u001b[0mmove\u001b[0m \u001b[0;34m=\u001b[0m \u001b[0minput\u001b[0m\u001b[0;34m(\u001b[0m\u001b[0;34m)\u001b[0m\u001b[0;34m\u001b[0m\u001b[0;34m\u001b[0m\u001b[0m\n\u001b[0m\u001b[1;32m     38\u001b[0m \u001b[0;34m\u001b[0m\u001b[0m\n\u001b[1;32m     39\u001b[0m         \u001b[0;32mif\u001b[0m \u001b[0mtheBoard\u001b[0m\u001b[0;34m[\u001b[0m\u001b[0mmove\u001b[0m\u001b[0;34m]\u001b[0m \u001b[0;34m==\u001b[0m \u001b[0;34m' '\u001b[0m\u001b[0;34m:\u001b[0m\u001b[0;34m\u001b[0m\u001b[0;34m\u001b[0m\u001b[0m\n",
            "\u001b[0;32m/usr/local/lib/python3.7/dist-packages/ipykernel/kernelbase.py\u001b[0m in \u001b[0;36mraw_input\u001b[0;34m(self, prompt)\u001b[0m\n\u001b[1;32m    861\u001b[0m             \u001b[0mself\u001b[0m\u001b[0;34m.\u001b[0m\u001b[0m_parent_ident\u001b[0m\u001b[0;34m,\u001b[0m\u001b[0;34m\u001b[0m\u001b[0;34m\u001b[0m\u001b[0m\n\u001b[1;32m    862\u001b[0m             \u001b[0mself\u001b[0m\u001b[0;34m.\u001b[0m\u001b[0m_parent_header\u001b[0m\u001b[0;34m,\u001b[0m\u001b[0;34m\u001b[0m\u001b[0;34m\u001b[0m\u001b[0m\n\u001b[0;32m--> 863\u001b[0;31m             \u001b[0mpassword\u001b[0m\u001b[0;34m=\u001b[0m\u001b[0;32mFalse\u001b[0m\u001b[0;34m,\u001b[0m\u001b[0;34m\u001b[0m\u001b[0;34m\u001b[0m\u001b[0m\n\u001b[0m\u001b[1;32m    864\u001b[0m         )\n\u001b[1;32m    865\u001b[0m \u001b[0;34m\u001b[0m\u001b[0m\n",
            "\u001b[0;32m/usr/local/lib/python3.7/dist-packages/ipykernel/kernelbase.py\u001b[0m in \u001b[0;36m_input_request\u001b[0;34m(self, prompt, ident, parent, password)\u001b[0m\n\u001b[1;32m    902\u001b[0m             \u001b[0;32mexcept\u001b[0m \u001b[0mKeyboardInterrupt\u001b[0m\u001b[0;34m:\u001b[0m\u001b[0;34m\u001b[0m\u001b[0;34m\u001b[0m\u001b[0m\n\u001b[1;32m    903\u001b[0m                 \u001b[0;31m# re-raise KeyboardInterrupt, to truncate traceback\u001b[0m\u001b[0;34m\u001b[0m\u001b[0;34m\u001b[0m\u001b[0;34m\u001b[0m\u001b[0m\n\u001b[0;32m--> 904\u001b[0;31m                 \u001b[0;32mraise\u001b[0m \u001b[0mKeyboardInterrupt\u001b[0m\u001b[0;34m(\u001b[0m\u001b[0;34m\"Interrupted by user\"\u001b[0m\u001b[0;34m)\u001b[0m \u001b[0;32mfrom\u001b[0m \u001b[0;32mNone\u001b[0m\u001b[0;34m\u001b[0m\u001b[0;34m\u001b[0m\u001b[0m\n\u001b[0m\u001b[1;32m    905\u001b[0m             \u001b[0;32mexcept\u001b[0m \u001b[0mException\u001b[0m \u001b[0;32mas\u001b[0m \u001b[0me\u001b[0m\u001b[0;34m:\u001b[0m\u001b[0;34m\u001b[0m\u001b[0;34m\u001b[0m\u001b[0m\n\u001b[1;32m    906\u001b[0m                 \u001b[0mself\u001b[0m\u001b[0;34m.\u001b[0m\u001b[0mlog\u001b[0m\u001b[0;34m.\u001b[0m\u001b[0mwarning\u001b[0m\u001b[0;34m(\u001b[0m\u001b[0;34m\"Invalid Message:\"\u001b[0m\u001b[0;34m,\u001b[0m \u001b[0mexc_info\u001b[0m\u001b[0;34m=\u001b[0m\u001b[0;32mTrue\u001b[0m\u001b[0;34m)\u001b[0m\u001b[0;34m\u001b[0m\u001b[0;34m\u001b[0m\u001b[0m\n",
            "\u001b[0;31mKeyboardInterrupt\u001b[0m: Interrupted by user"
          ]
        }
      ]
    },
    {
      "cell_type": "markdown",
      "source": [
        "**LAB - 07**"
      ],
      "metadata": {
        "id": "HxKZTkebh1n-"
      }
    },
    {
      "cell_type": "markdown",
      "source": [
        "**Graphs;-**\n",
        "\n",
        "A graph is a set of points, called nodes or vertices, which are interconnected by a set of lines\n",
        "called edges. The study of graphs or graph theory is an important part of several disciplines in the\n",
        "fields of mathematics, engineering, and computer science.\n",
        "\n",
        "Example − Let us consider, a Graph is G = (V, E) where V = {a, b, c, d} and E = {{a, b}, {a, c},\n",
        "{b, c}, {c, d}}\n",
        "\n",
        "• Here V is the vertices and a, b, c, and d are the various vertex of the graph.\n",
        "\n",
        "• Here E represents edges and {a, b}, {a, c}, {b, c}, {c, d} are various edge of the graph.\n",
        "![image.png](data:image/png;base64,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)\n"
      ],
      "metadata": {
        "id": "AvdDZg-Vv6PP"
      }
    },
    {
      "cell_type": "markdown",
      "source": [
        "Activity 1\n",
        "\n",
        "Write a program to define a graph using nodes and their relationship.\n",
        "\n",
        "• Use a dictionary whose keys are the nodes of the graph.\n",
        "\n",
        "• For each key, the corresponding value is a list containing the nodes that are connected by\n",
        "a direct arc from this node."
      ],
      "metadata": {
        "id": "aif0QtF9wSQV"
      }
    },
    {
      "cell_type": "code",
      "source": [
        "#directed Graph\n",
        "graph = {'A':['B','C'],\n",
        " 'B':['D'],\n",
        " 'C':['E'],\n",
        " 'D':['C','E'],\n",
        " 'E':[]}\n"
      ],
      "metadata": {
        "id": "ScheQh30dfzP"
      },
      "execution_count": null,
      "outputs": []
    },
    {
      "cell_type": "markdown",
      "source": [
        "Let's write a simple function to determine a path between two nodes. It takes a graph and the start\n",
        "and end nodes as arguments.\n",
        "\n",
        "• It will return a list of nodes (including the start and end nodes) comprising the path. When\n",
        "no path can be found, it returns None.\n",
        "\n",
        "• The same node will not occur more than once on the path returned (i.e. it won't contain\n",
        "cycles).\n",
        "\n",
        "• The algorithm uses an important technique called backtracking: it tries each possibility in\n",
        "turn until it finds a solution."
      ],
      "metadata": {
        "id": "Ltg8l3NYweWe"
      }
    },
    {
      "cell_type": "code",
      "source": [
        "def find_path(graph, start, end, path=[]):\n",
        " path = path + [start]\n",
        " if start == end:\n",
        "  return path\n",
        " if start not in graph:\n",
        "  return None\n",
        " for node in graph[start]:\n",
        "  if node not in path:\n",
        "    newpath = find_path(graph, node, end, path)\n",
        "  if newpath: return newpath\n",
        "  return None\n",
        "print(find_path(graph,'A','C'))"
      ],
      "metadata": {
        "colab": {
          "base_uri": "https://localhost:8080/"
        },
        "id": "jLoj3H9xwkde",
        "outputId": "02456861-7a38-4bdc-d83d-1ae481d92382"
      },
      "execution_count": null,
      "outputs": [
        {
          "output_type": "stream",
          "name": "stdout",
          "text": [
            "['A', 'B', 'D', 'C']\n"
          ]
        }
      ]
    },
    {
      "cell_type": "markdown",
      "source": [
        "**Practice :**\n",
        "\n",
        "1. Create the following graph and\n",
        "Find the path from B to G"
      ],
      "metadata": {
        "id": "EfN1rzOE5MP5"
      }
    },
    {
      "cell_type": "code",
      "source": [
        "#directed Graph\n",
        "graph = {'A':['B','C'],\n",
        " 'B':['D'],\n",
        " 'C':['E'],\n",
        " 'D':['C','E'],\n",
        " 'E':[]}\n"
      ],
      "metadata": {
        "id": "yT6_1T_M5fdD"
      },
      "execution_count": null,
      "outputs": []
    },
    {
      "cell_type": "code",
      "source": [
        "def find_path(graph, start, end, path=[]):\n",
        " path = path + [start]\n",
        " if start == end:\n",
        "  return path\n",
        " if start not in graph:\n",
        "  return None\n",
        " for node in graph[start]:\n",
        "  if node not in path:\n",
        "    newpath = find_path(graph, node, end, path)\n",
        "  if newpath: return newpath\n",
        "  return None\n",
        "print(find_path(graph,'A','D'))"
      ],
      "metadata": {
        "colab": {
          "base_uri": "https://localhost:8080/",
          "height": 345
        },
        "id": "TEOlzN4w8weE",
        "outputId": "d84f4a1d-018e-4585-cd66-8f6d18207eee"
      },
      "execution_count": null,
      "outputs": [
        {
          "output_type": "error",
          "ename": "UnboundLocalError",
          "evalue": "ignored",
          "traceback": [
            "\u001b[0;31m---------------------------------------------------------------------------\u001b[0m",
            "\u001b[0;31mUnboundLocalError\u001b[0m                         Traceback (most recent call last)",
            "\u001b[0;32m<ipython-input-26-d1a07940f6f2>\u001b[0m in \u001b[0;36m<module>\u001b[0;34m\u001b[0m\n\u001b[1;32m     10\u001b[0m   \u001b[0;32mif\u001b[0m \u001b[0mnewpath\u001b[0m\u001b[0;34m:\u001b[0m \u001b[0;32mreturn\u001b[0m \u001b[0mnewpath\u001b[0m\u001b[0;34m\u001b[0m\u001b[0;34m\u001b[0m\u001b[0m\n\u001b[1;32m     11\u001b[0m   \u001b[0;32mreturn\u001b[0m \u001b[0;32mNone\u001b[0m\u001b[0;34m\u001b[0m\u001b[0;34m\u001b[0m\u001b[0m\n\u001b[0;32m---> 12\u001b[0;31m \u001b[0mprint\u001b[0m\u001b[0;34m(\u001b[0m\u001b[0mfind_path\u001b[0m\u001b[0;34m(\u001b[0m\u001b[0mgraph\u001b[0m\u001b[0;34m,\u001b[0m\u001b[0;34m'A'\u001b[0m\u001b[0;34m,\u001b[0m\u001b[0;34m'D'\u001b[0m\u001b[0;34m)\u001b[0m\u001b[0;34m)\u001b[0m\u001b[0;34m\u001b[0m\u001b[0;34m\u001b[0m\u001b[0m\n\u001b[0m",
            "\u001b[0;32m<ipython-input-26-d1a07940f6f2>\u001b[0m in \u001b[0;36mfind_path\u001b[0;34m(graph, start, end, path)\u001b[0m\n\u001b[1;32m      7\u001b[0m  \u001b[0;32mfor\u001b[0m \u001b[0mnode\u001b[0m \u001b[0;32min\u001b[0m \u001b[0mgraph\u001b[0m\u001b[0;34m[\u001b[0m\u001b[0mstart\u001b[0m\u001b[0;34m]\u001b[0m\u001b[0;34m:\u001b[0m\u001b[0;34m\u001b[0m\u001b[0;34m\u001b[0m\u001b[0m\n\u001b[1;32m      8\u001b[0m   \u001b[0;32mif\u001b[0m \u001b[0mnode\u001b[0m \u001b[0;32mnot\u001b[0m \u001b[0;32min\u001b[0m \u001b[0mpath\u001b[0m\u001b[0;34m:\u001b[0m\u001b[0;34m\u001b[0m\u001b[0;34m\u001b[0m\u001b[0m\n\u001b[0;32m----> 9\u001b[0;31m     \u001b[0mnewpath\u001b[0m \u001b[0;34m=\u001b[0m \u001b[0mfind_path\u001b[0m\u001b[0;34m(\u001b[0m\u001b[0mgraph\u001b[0m\u001b[0;34m,\u001b[0m \u001b[0mnode\u001b[0m\u001b[0;34m,\u001b[0m \u001b[0mend\u001b[0m\u001b[0;34m,\u001b[0m \u001b[0mpath\u001b[0m\u001b[0;34m)\u001b[0m\u001b[0;34m\u001b[0m\u001b[0;34m\u001b[0m\u001b[0m\n\u001b[0m\u001b[1;32m     10\u001b[0m   \u001b[0;32mif\u001b[0m \u001b[0mnewpath\u001b[0m\u001b[0;34m:\u001b[0m \u001b[0;32mreturn\u001b[0m \u001b[0mnewpath\u001b[0m\u001b[0;34m\u001b[0m\u001b[0;34m\u001b[0m\u001b[0m\n\u001b[1;32m     11\u001b[0m   \u001b[0;32mreturn\u001b[0m \u001b[0;32mNone\u001b[0m\u001b[0;34m\u001b[0m\u001b[0;34m\u001b[0m\u001b[0m\n",
            "\u001b[0;32m<ipython-input-26-d1a07940f6f2>\u001b[0m in \u001b[0;36mfind_path\u001b[0;34m(graph, start, end, path)\u001b[0m\n\u001b[1;32m      7\u001b[0m  \u001b[0;32mfor\u001b[0m \u001b[0mnode\u001b[0m \u001b[0;32min\u001b[0m \u001b[0mgraph\u001b[0m\u001b[0;34m[\u001b[0m\u001b[0mstart\u001b[0m\u001b[0;34m]\u001b[0m\u001b[0;34m:\u001b[0m\u001b[0;34m\u001b[0m\u001b[0;34m\u001b[0m\u001b[0m\n\u001b[1;32m      8\u001b[0m   \u001b[0;32mif\u001b[0m \u001b[0mnode\u001b[0m \u001b[0;32mnot\u001b[0m \u001b[0;32min\u001b[0m \u001b[0mpath\u001b[0m\u001b[0;34m:\u001b[0m\u001b[0;34m\u001b[0m\u001b[0;34m\u001b[0m\u001b[0m\n\u001b[0;32m----> 9\u001b[0;31m     \u001b[0mnewpath\u001b[0m \u001b[0;34m=\u001b[0m \u001b[0mfind_path\u001b[0m\u001b[0;34m(\u001b[0m\u001b[0mgraph\u001b[0m\u001b[0;34m,\u001b[0m \u001b[0mnode\u001b[0m\u001b[0;34m,\u001b[0m \u001b[0mend\u001b[0m\u001b[0;34m,\u001b[0m \u001b[0mpath\u001b[0m\u001b[0;34m)\u001b[0m\u001b[0;34m\u001b[0m\u001b[0;34m\u001b[0m\u001b[0m\n\u001b[0m\u001b[1;32m     10\u001b[0m   \u001b[0;32mif\u001b[0m \u001b[0mnewpath\u001b[0m\u001b[0;34m:\u001b[0m \u001b[0;32mreturn\u001b[0m \u001b[0mnewpath\u001b[0m\u001b[0;34m\u001b[0m\u001b[0;34m\u001b[0m\u001b[0m\n\u001b[1;32m     11\u001b[0m   \u001b[0;32mreturn\u001b[0m \u001b[0;32mNone\u001b[0m\u001b[0;34m\u001b[0m\u001b[0;34m\u001b[0m\u001b[0m\n",
            "\u001b[0;32m<ipython-input-26-d1a07940f6f2>\u001b[0m in \u001b[0;36mfind_path\u001b[0;34m(graph, start, end, path)\u001b[0m\n\u001b[1;32m      8\u001b[0m   \u001b[0;32mif\u001b[0m \u001b[0mnode\u001b[0m \u001b[0;32mnot\u001b[0m \u001b[0;32min\u001b[0m \u001b[0mpath\u001b[0m\u001b[0;34m:\u001b[0m\u001b[0;34m\u001b[0m\u001b[0;34m\u001b[0m\u001b[0m\n\u001b[1;32m      9\u001b[0m     \u001b[0mnewpath\u001b[0m \u001b[0;34m=\u001b[0m \u001b[0mfind_path\u001b[0m\u001b[0;34m(\u001b[0m\u001b[0mgraph\u001b[0m\u001b[0;34m,\u001b[0m \u001b[0mnode\u001b[0m\u001b[0;34m,\u001b[0m \u001b[0mend\u001b[0m\u001b[0;34m,\u001b[0m \u001b[0mpath\u001b[0m\u001b[0;34m)\u001b[0m\u001b[0;34m\u001b[0m\u001b[0;34m\u001b[0m\u001b[0m\n\u001b[0;32m---> 10\u001b[0;31m   \u001b[0;32mif\u001b[0m \u001b[0mnewpath\u001b[0m\u001b[0;34m:\u001b[0m \u001b[0;32mreturn\u001b[0m \u001b[0mnewpath\u001b[0m\u001b[0;34m\u001b[0m\u001b[0;34m\u001b[0m\u001b[0m\n\u001b[0m\u001b[1;32m     11\u001b[0m   \u001b[0;32mreturn\u001b[0m \u001b[0;32mNone\u001b[0m\u001b[0;34m\u001b[0m\u001b[0;34m\u001b[0m\u001b[0m\n\u001b[1;32m     12\u001b[0m \u001b[0mprint\u001b[0m\u001b[0;34m(\u001b[0m\u001b[0mfind_path\u001b[0m\u001b[0;34m(\u001b[0m\u001b[0mgraph\u001b[0m\u001b[0;34m,\u001b[0m\u001b[0;34m'A'\u001b[0m\u001b[0;34m,\u001b[0m\u001b[0;34m'D'\u001b[0m\u001b[0;34m)\u001b[0m\u001b[0;34m)\u001b[0m\u001b[0;34m\u001b[0m\u001b[0;34m\u001b[0m\u001b[0m\n",
            "\u001b[0;31mUnboundLocalError\u001b[0m: local variable 'newpath' referenced before assignment"
          ]
        }
      ]
    },
    {
      "cell_type": "markdown",
      "source": [
        "Breadth-first search (BFS)\n",
        "\n",
        "is an algorithm for searching a tree data structure for a node that satisfies a given property. It starts\n",
        "at the tree root and explores all nodes at the present depth before moving on to the nodes at the\n",
        "next depth level. Extra memory, usually a queue, is needed to keep track of the child nodes that\n",
        "were encountered but not yet explored.\n",
        "\n",
        "**Activity 2:**\n",
        "\n",
        "**Write a program to traverse a graph using the BFS algorithm**"
      ],
      "metadata": {
        "id": "5uD19T5UxIjB"
      }
    },
    {
      "cell_type": "markdown",
      "source": [
        "Implementation of BFS traversal:\n",
        "Follow the below method to implement BFS traversal.\n",
        "\n",
        "Declare a queue and insert the starting vertex.\n",
        "\n",
        "\n",
        "\n",
        "Initialize a visited array and mark the starting vertex as visited.\n",
        "Follow the below process till the queue becomes empty:\n",
        "1. Remove the first vertex of the queue.\n",
        "2. Mark that vertex as visited.\n",
        "3. Insert all the unvisited neighbours of the vertex into the queue."
      ],
      "metadata": {
        "id": "EOX9eztA2hfj"
      }
    },
    {
      "cell_type": "code",
      "source": [
        "#directed Graph\n",
        "graph = {'A':['B','C'],\n",
        " 'B':['D'],\n",
        " 'C':['E'],\n",
        " 'D':['C','E'],\n",
        " 'E':[]}\n",
        "#print(find_path(graph,'A','D'))\n",
        "queue = []\n",
        "visited = []\n",
        "def bFS(graph,node):\n",
        " visited.append(node)\n",
        " queue.append(node)\n",
        " while queue:\n",
        "  required_node = queue.pop(0)\n",
        "  print(required_node,end = \" \")\n",
        "  for adjecent_node in graph[required_node]:\n",
        "    if adjecent_node not in visited:\n",
        "      queue.append(adjecent_node)\n",
        "      visited.append(adjecent_node)\n",
        "bFS(graph,'A')"
      ],
      "metadata": {
        "colab": {
          "base_uri": "https://localhost:8080/"
        },
        "id": "RuMoJInuwk1w",
        "outputId": "15257bd3-957f-4b36-a66a-6b3632cc748b"
      },
      "execution_count": null,
      "outputs": [
        {
          "output_type": "stream",
          "name": "stdout",
          "text": [
            "A B C D E "
          ]
        }
      ]
    },
    {
      "cell_type": "markdown",
      "source": [
        "**Depth First Search (DFS);-**\n",
        "\n",
        "Depth-first search is an algorithm for traversing or searching tree or graph data structures. The\n",
        "algorithm starts at the root node (selecting some arbitrary node as the root node in the case of a\n",
        "graph) and explores as far as possible along each branch before backtracking. So the basic idea is\n",
        "to start from the root or any arbitrary node and mark the node and move to the adjacent unmarked\n",
        "node and continue this loop until there is no unmarked adjacent node. Then backtrack and check\n",
        "for other unmarked nodes and traverse them. Finally, print the nodes in the path"
      ],
      "metadata": {
        "id": "rnn2W3pxzmfR"
      }
    },
    {
      "cell_type": "markdown",
      "source": [
        "**Activity 1**\n",
        "Write a program to define a graph using nodes and their relationship.\n",
        "\n",
        "• Use a dictionary whose keys are the nodes of the graph.\n",
        "\n",
        "• For each key, the corresponding value is a list containing the nodes that are connected by\n",
        "a direct arc from this node."
      ],
      "metadata": {
        "id": "KQtrKug1yGf5"
      }
    },
    {
      "cell_type": "code",
      "source": [
        "#directed Graph\n",
        "graph = {'A':['B','C'],\n",
        " 'B':['D'],\n",
        " 'C':['E'],\n",
        " 'D':['C','E'],\n",
        " 'E':[]}"
      ],
      "metadata": {
        "id": "NowrTZBpxQa4"
      },
      "execution_count": null,
      "outputs": []
    },
    {
      "cell_type": "markdown",
      "source": [
        "Activity2:\n",
        "Write a program to traverse a graph using the DFS algorithm."
      ],
      "metadata": {
        "id": "b2UGKhSsyR_H"
      }
    },
    {
      "cell_type": "code",
      "source": [
        "graph = {'A': set(['B', 'C']),\n",
        "         'B': set(['A', 'D', 'E']),\n",
        "         'C': set(['A']),\n",
        "         'D': set(['B']),\n",
        "         'E': set(['C', 'D'])}"
      ],
      "metadata": {
        "id": "UfpCsZx2zhv8"
      },
      "execution_count": null,
      "outputs": []
    },
    {
      "cell_type": "markdown",
      "source": [
        "**Depth First Search Algorithm**\n",
        "A standard DFS implementation puts each vertex of the graph into one of two categories:\n",
        "\n",
        "1. Visited\n",
        "2. Not Visited\n",
        "The purpose of the algorithm is to mark each vertex as visited while avoiding cycles.\n",
        "\n",
        "The DFS algorithm works as follows:\n",
        "\n",
        "Start by putting any one of the graph's vertices on top of a stack.\n",
        "\n",
        "Take the top item of the stack and add it to the visited list.\n",
        "\n",
        "Create a list of that vertex's adjacent nodes. Add the ones which aren't in the visited list to the top of the stack.\n",
        "\n",
        "Keep repeating steps 2 and 3 until the stack is empty."
      ],
      "metadata": {
        "id": "fE3mjKZKyrZS"
      }
    },
    {
      "cell_type": "code",
      "source": [
        "# DFS algorithm in Python\n",
        "\n",
        "\n",
        "# DFS algorithm\n",
        "def dfs(graph, start, visited=None):\n",
        "    if visited is None:\n",
        "        visited = set()\n",
        "    visited.add(start)\n",
        "\n",
        "    print(start)\n",
        "\n",
        "    for next in graph[start] - visited:\n",
        "        dfs(graph, next, visited)\n",
        "    return visited\n",
        "\n",
        "\n",
        "\n",
        "\n",
        "dfs(graph, 'A')"
      ],
      "metadata": {
        "colab": {
          "base_uri": "https://localhost:8080/"
        },
        "id": "amgn1FwkySlZ",
        "outputId": "b0601c6b-b16c-4cb3-dd70-3418f04ac3a2"
      },
      "execution_count": null,
      "outputs": [
        {
          "output_type": "stream",
          "name": "stdout",
          "text": [
            "A\n",
            "B\n",
            "D\n",
            "E\n",
            "C\n",
            "C\n"
          ]
        },
        {
          "output_type": "execute_result",
          "data": {
            "text/plain": [
              "{'A', 'B', 'C', 'D', 'E'}"
            ]
          },
          "metadata": {},
          "execution_count": 4
        }
      ]
    },
    {
      "cell_type": "code",
      "source": [
        "graph = {\n",
        "  'A' : ['B','C'],\n",
        "  'B' : ['D', 'E'],\n",
        "  'C' : ['F'],\n",
        "  'D' : [],\n",
        "  'E' : ['F'],\n",
        "  'F' : []\n",
        "}\n",
        "\n",
        "visited = set() # Set to keep track of visited nodes of graph.\n",
        "\n",
        "def dfs(visited, graph, node):  #function for dfs\n",
        "    if node not in visited:\n",
        "        print (node)\n",
        "        visited.add(node)\n",
        "        for neighbour in graph[node]:\n",
        "            dfs(visited, graph, neighbour)\n",
        "\n",
        "# Driver Code\n",
        "print(\"Following is the Depth-First Search\")\n",
        "dfs(visited, graph, 'A')"
      ],
      "metadata": {
        "colab": {
          "base_uri": "https://localhost:8080/"
        },
        "id": "3DA3J03E3VZH",
        "outputId": "455335f1-0735-42d4-e0e4-97905fc49cb7"
      },
      "execution_count": null,
      "outputs": [
        {
          "output_type": "stream",
          "name": "stdout",
          "text": [
            "Following is the Depth-First Search\n",
            "A\n",
            "B\n",
            "D\n",
            "E\n",
            "F\n",
            "C\n"
          ]
        }
      ]
    },
    {
      "cell_type": "markdown",
      "source": [
        "**Lab - 09**"
      ],
      "metadata": {
        "id": "NZbw4wnk_4ve"
      }
    },
    {
      "cell_type": "markdown",
      "source": [
        "\n",
        "\n",
        "\n",
        "• What is repositional logic?\n",
        "\n",
        "• What is First-Order logic?\n",
        "\n",
        "• Syntax of first-order logic.\n",
        "\n",
        "• Implementation of the predicates using prolog language.\n",
        "\n",
        "• Syntax of prolog language?\n",
        "\n",
        "• Basic expressions of prolog language.\n",
        "\n",
        "Introduction to Prolog\n",
        "There are only *three* basic constructs in Prolog: facts, rules, and queries. A collection of facts and\n",
        "rules is called a knowledge base (or a database) and Prolog programming is all about writing\n",
        "knowledge bases. That is, Prolog programs simply are knowledge bases: collections of facts and\n",
        "rules which describe some collection of relationships that we find interesting.\n",
        "\n",
        "\n",
        "1. In prolog, We declare some facts.\n",
        "2. These facts constitute the Knowledge Base of the system.\n",
        "3. We can query against the Knowledge Base.\n",
        "4. We get output as affirmative if our query is already in the knowledge Base or it is implied by Knowledge Base, otherwise we get output as negative.\n",
        "5. So, Knowledge Base can be considered similar to database, against which we can query.\n",
        "\n",
        "You may download it from its official website.\n",
        "\n",
        "https://www.swi-prolog.org/download/stable"
      ],
      "metadata": {
        "id": "IporgquTxf1_"
      }
    },
    {
      "cell_type": "markdown",
      "source": [
        "**Facts**\n",
        "We can define fact as an explicit relationship between objects, and properties these objects might have. So facts are unconditionally true in nature. Suppose we have some facts as given below −\n",
        "\n",
        "Tom is a cat\n",
        "\n",
        "ali loves to eat pasta\n",
        "\n",
        "Hair is black\n",
        "\n",
        "Syntax\n",
        "The syntax for facts is as follows −\n",
        "\n",
        "relation(object1,object2...).\n",
        "Example\n",
        "Following is an example of the above concept −\n",
        "\n",
        "cat(tom).\n",
        "\n",
        "loves_to_eat(ali,pasta).\n",
        "\n",
        "of_color(hair,black).\n",
        "\n",
        "\n",
        "\n",
        "\n",
        "\n",
        "\n",
        "/n\n",
        "\n",
        "\n",
        "\n",
        "\n",
        "\n",
        "**Queries**\n",
        "Queries are some questions on the relationships between objects and object properties. So question can be anything, as given below −\n",
        "\n",
        "Is tom a cat?\n",
        "\n",
        "Does ali love to eat pasta?\n",
        "\n",
        "Is Lili happy?\n",
        "\n",
        "\n",
        "So according to these queries, Logic programming language can find the answer and return them.\n"
      ],
      "metadata": {
        "id": "pYrSk_9M0JdF"
      }
    },
    {
      "cell_type": "markdown",
      "source": [
        "**Rules**\n",
        "We can define rule as an implicit relationship between objects. So facts are conditionally true. So when one associated condition is true, then the predicate is also true. Suppose we have some rules as given below −\n",
        "\n",
        "Lili is happy if she dances.\n",
        "\n",
        "Tom is hungry if he is searching for food.\n",
        "\n",
        "Ali and Ahmed are friends if both of them love to play cricket.\n",
        "\n",
        "So these are some rules that are conditionally true, so when the right hand side is true, then the left hand side is also true.\n",
        "\n",
        "Here the symbol ( :- ) will be pronounced as “If”, or “is implied by”. This is also known as neck symbol, the LHS of this symbol is called the Head, and right hand side is called Body. Here we can use comma (,) which is known as conjunction, and we can also use semicolon, that is known as disjunction.\n",
        "\n",
        "happy(lili) :- dances(lili).\n",
        "\n",
        "hungry(tom) :- search_for_food(tom).\n",
        "\n",
        "friends(ali, ahmed) :- lovesCricket(ali), lovesCricket(ahmed)."
      ],
      "metadata": {
        "id": "1LO6DhM89cmC"
      }
    },
    {
      "cell_type": "code",
      "source": [],
      "metadata": {
        "id": "JFggwCq1yMEb"
      },
      "execution_count": null,
      "outputs": []
    },
    {
      "cell_type": "code",
      "source": [],
      "metadata": {
        "id": "AaPNDprRxidi"
      },
      "execution_count": null,
      "outputs": []
    }
  ]
}